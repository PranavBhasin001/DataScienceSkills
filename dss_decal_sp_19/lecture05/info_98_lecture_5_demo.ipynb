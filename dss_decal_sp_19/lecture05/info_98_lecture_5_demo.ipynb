{
 "cells": [
  {
   "cell_type": "markdown",
   "metadata": {},
   "source": [
    "# INFO 98: Data Science Skills, Spring 2019\n",
    "## Lecture 05: Data Visualization\n",
    "\n",
    "---"
   ]
  },
  {
   "cell_type": "markdown",
   "metadata": {},
   "source": [
    "## Table of Contents\n",
    "* [Setup](#setup)\n",
    "* [Demo](#demo)\n",
    "    * Histogram\n",
    "    * Bar Plot\n",
    "    * Box Plot\n",
    "    * Line Graph\n",
    "    * Scatter Plot\n",
    "    * Contout Plot\n",
    "    * Heat Map\n",
    "* [Customization](#customization)"
   ]
  },
  {
   "cell_type": "markdown",
   "metadata": {},
   "source": [
    "<a id='setup'></a>\n",
    "# Setup\n",
    "____"
   ]
  },
  {
   "cell_type": "code",
   "execution_count": null,
   "metadata": {},
   "outputs": [],
   "source": [
    "# Comment out !pip install statements if you have those packages installed.\n",
    "\n",
    "!pip install numpy\n",
    "!pip install pandas\n",
    "!pip install matplotlib\n",
    "!pip install seaborn\n",
    "\n",
    "import numpy as np\n",
    "import pandas as pd\n",
    "import matplotlib.pyplot as plt\n",
    "import seaborn as sns\n",
    "import re"
   ]
  },
  {
   "cell_type": "markdown",
   "metadata": {},
   "source": [
    "<a id='Demo'></a>\n",
    "# Demo\n",
    "___"
   ]
  },
  {
   "cell_type": "markdown",
   "metadata": {},
   "source": [
    "**NOTE**: Place the .csv file at https://drive.google.com/file/d/18uiFsYakr2-GytJiWXMlsz3QxmGFA2CB/view?usp=sharing in the same folder as the IPython notebook"
   ]
  },
  {
   "cell_type": "code",
   "execution_count": null,
   "metadata": {},
   "outputs": [],
   "source": [
    "dataset = pd.read_csv('gun-violence-data.csv')"
   ]
  },
  {
   "cell_type": "code",
   "execution_count": null,
   "metadata": {},
   "outputs": [],
   "source": [
    "dataset.columns"
   ]
  },
  {
   "cell_type": "code",
   "execution_count": null,
   "metadata": {},
   "outputs": [],
   "source": [
    "dataset"
   ]
  },
  {
   "cell_type": "code",
   "execution_count": null,
   "metadata": {},
   "outputs": [],
   "source": [
    "dataset = dataset.dropna()"
   ]
  },
  {
   "cell_type": "code",
   "execution_count": null,
   "metadata": {},
   "outputs": [],
   "source": [
    "# Drop irrelevant columns\n",
    "dataset = dataset.drop(columns = ['incident_url', 'source_url', 'sources'])"
   ]
  },
  {
   "cell_type": "code",
   "execution_count": null,
   "metadata": {},
   "outputs": [],
   "source": [
    "dataset"
   ]
  },
  {
   "cell_type": "markdown",
   "metadata": {},
   "source": [
    "### Histrogram"
   ]
  },
  {
   "cell_type": "markdown",
   "metadata": {},
   "source": [
    "A 50 bar bar plot would seem to be non-optimal. Instead, let's create a plot that visualizes this data effectively."
   ]
  },
  {
   "cell_type": "code",
   "execution_count": null,
   "metadata": {},
   "outputs": [],
   "source": [
    "state_grouping = dataset.groupby('state').agg({'n_killed': sum})\n",
    "\n",
    "#state_grouping.head()\n",
    "states = dataset['state'].unique()\n",
    "killed = state_grouping['n_killed']\n",
    "plt.hist(killed)\n",
    "#sns.distplot(killed)\n",
    "\n",
    "#seaborn implementation of the same histogram\n",
    "plt.ylabel('Number of states (frequency)')\n",
    "plt.xlabel('Number killed in a state from 2013-2018')\n",
    "plt.title('A histogram of the state-level distribution of number of people killed by guns')"
   ]
  },
  {
   "cell_type": "markdown",
   "metadata": {},
   "source": [
    "What does this histogram show? How did it transform the data from the bar plot above?"
   ]
  },
  {
   "cell_type": "markdown",
   "metadata": {},
   "source": [
    "### Bar Plot"
   ]
  },
  {
   "cell_type": "markdown",
   "metadata": {},
   "source": [
    "Let's say that we wanted to plot the number of gun deaths per year in California. What plot do you think will best accomplish this?"
   ]
  },
  {
   "cell_type": "code",
   "execution_count": null,
   "metadata": {},
   "outputs": [],
   "source": [
    "california = dataset[dataset['state'] == 'California']\n",
    "california"
   ]
  },
  {
   "cell_type": "code",
   "execution_count": null,
   "metadata": {},
   "outputs": [],
   "source": [
    "california['date'] = pd.to_datetime(california['date'])\n",
    "#what I am doing is creating datetime objects in pandas. This allows you to take dates that could appear in your data\n",
    "#and turn them into parsable objects which you can mine for the year, month, time, and more.\n",
    "#documentation: https://pandas.pydata.org/pandas-docs/stable/reference/api/pandas.to_datetime.html"
   ]
  },
  {
   "cell_type": "code",
   "execution_count": null,
   "metadata": {},
   "outputs": [],
   "source": [
    "# The dataset also has year, month, and day attributes.\n",
    "california['date'].iloc[0].year"
   ]
  },
  {
   "cell_type": "code",
   "execution_count": null,
   "metadata": {},
   "outputs": [],
   "source": [
    "# To simplify the syntax, you could print ca_split_by_year!\n",
    "ca_split_by_year = [california['date'].iloc[i].year for i in range(len(california))]"
   ]
  },
  {
   "cell_type": "code",
   "execution_count": null,
   "metadata": {},
   "outputs": [],
   "source": [
    "# Splitting/aggregating the data to get the number of gun deaths in each year.\n",
    "deaths_agg_by_year = {}\n",
    "for i in ca_split_by_year:\n",
    "    if i in deaths_agg_by_year.keys():\n",
    "        deaths_agg_by_year[i] += 1\n",
    "    else:\n",
    "        deaths_agg_by_year[i] = 1"
   ]
  },
  {
   "cell_type": "code",
   "execution_count": null,
   "metadata": {},
   "outputs": [],
   "source": [
    "deaths_agg_by_year"
   ]
  },
  {
   "cell_type": "code",
   "execution_count": null,
   "metadata": {},
   "outputs": [],
   "source": [
    "plt.bar(deaths_agg_by_year.keys(), deaths_agg_by_year.values())\n",
    "plt.ylabel('Number of gun deaths in that year')\n",
    "plt.xlabel('Year')\n",
    "plt.title('Number of gun deaths by year in California')"
   ]
  },
  {
   "cell_type": "markdown",
   "metadata": {},
   "source": [
    "### Box Plot"
   ]
  },
  {
   "cell_type": "markdown",
   "metadata": {},
   "source": [
    "But what if we wanted to know something more interesting about the data, like the gender distribution of the participants in gun crime?\n",
    "\n",
    "To do that, we need to manipulate the data some more, and then think of a nice visualization to use. Any ideas?"
   ]
  },
  {
   "cell_type": "code",
   "execution_count": null,
   "metadata": {
    "scrolled": true
   },
   "outputs": [],
   "source": [
    "# We clean and split the data from participant_gender column using regular expression.\n",
    "gender = [re.findall(r\"Male|Female\", s) for s in dataset['participant_gender']]\n",
    "gender"
   ]
  },
  {
   "cell_type": "code",
   "execution_count": null,
   "metadata": {},
   "outputs": [],
   "source": [
    "# Number of males in each gun crime\n",
    "num_male = [sum(1 for x in i if x == 'Male') for i in gender]"
   ]
  },
  {
   "cell_type": "code",
   "execution_count": null,
   "metadata": {},
   "outputs": [],
   "source": [
    "# Number of females in each gun crime\n",
    "num_female = [sum(1 for x in i if x == 'Female') for i in gender]"
   ]
  },
  {
   "cell_type": "code",
   "execution_count": null,
   "metadata": {},
   "outputs": [],
   "source": [
    "plt.figure(figsize = (3, 8))\n",
    "plt.boxplot(num_male)\n",
    "#sns.boxplot(data = num_male, notch = True)\n",
    "plt.ylabel('Number of males involved')\n",
    "plt.xlabel('Male')\n",
    "plt.title('A boxplot of the number of males involved in gun crimes in the dataset')"
   ]
  },
  {
   "cell_type": "code",
   "execution_count": null,
   "metadata": {},
   "outputs": [],
   "source": [
    "plt.figure(figsize = (3, 8))\n",
    "plt.boxplot(num_female)\n",
    "#sns.boxplot(data = num_female, notch = True)\n",
    "plt.ylabel('Number of females involved')\n",
    "plt.xlabel('Female')\n",
    "plt.title('A boxplot of the number of females involved in gun crimes in the dataset')"
   ]
  },
  {
   "cell_type": "markdown",
   "metadata": {},
   "source": [
    "What are some things that you can conclude with respect to gender from these boxplots?"
   ]
  },
  {
   "cell_type": "markdown",
   "metadata": {},
   "source": [
    "### Line Graph"
   ]
  },
  {
   "cell_type": "markdown",
   "metadata": {},
   "source": [
    "Let's say that we wanted to create a time series analysis of the data to see if there are any big spikes in crime on certain days. We suspect that some phenomena cause more deaths on certain days than others.\n",
    "<br>\n",
    "<br>\n",
    "What are some tools that we can use to achieve this?"
   ]
  },
  {
   "cell_type": "code",
   "execution_count": null,
   "metadata": {},
   "outputs": [],
   "source": [
    "time_grouping = dataset.groupby('date').agg({'n_killed': sum, 'n_injured': sum})"
   ]
  },
  {
   "cell_type": "code",
   "execution_count": null,
   "metadata": {},
   "outputs": [],
   "source": [
    "plt.plot(time_grouping.index, time_grouping['n_killed'])"
   ]
  },
  {
   "cell_type": "markdown",
   "metadata": {},
   "source": [
    "What is wrong with this plot? How do we fix this?"
   ]
  },
  {
   "cell_type": "code",
   "execution_count": null,
   "metadata": {},
   "outputs": [],
   "source": [
    "plt.figure(figsize = (30, 8))\n",
    "ax = plt.plot(time_grouping.index, time_grouping['n_killed'])\n",
    "plt.xticks(time_grouping.index[::20], time_grouping.index[::20], rotation = 'vertical')\n",
    "#sns.lineplot(time_grouping.index, time_grouping['n_killed'])\n",
    "plt.xlabel('Date')\n",
    "plt.ylabel('Number of people killed by guns that day')\n",
    "plt.title('The number of people killed by guns in a day over time')"
   ]
  },
  {
   "cell_type": "markdown",
   "metadata": {},
   "source": [
    "### Scatter Plot"
   ]
  },
  {
   "cell_type": "code",
   "execution_count": null,
   "metadata": {},
   "outputs": [],
   "source": [
    "# We create points where the number killed is on the x axis and the number injured is on the y axis\n",
    "points = [[dataset['n_killed'].iloc[i], dataset['n_injured'].iloc[i]] for i in range(len(dataset))]"
   ]
  },
  {
   "cell_type": "code",
   "execution_count": null,
   "metadata": {},
   "outputs": [],
   "source": [
    "points_x = np.array([points[i][0] for i in range(len(points))])\n",
    "points_y = np.array([points[x][1] for x in range(len(points))])\n",
    "plt.scatter(points_x, points_y)\n",
    "#sns.scatterplot(points_x, points_y)\n",
    "plt.xlabel('Number of people killed')\n",
    "plt.ylabel('Number of people injured')\n",
    "plt.title('Scatter plot comparing the number of people killed and injured in each gun incident')"
   ]
  },
  {
   "cell_type": "markdown",
   "metadata": {},
   "source": [
    "Does this scatter plot seem too good to be true? How is it possible that with so many points that we get a clean looking plot like this?"
   ]
  },
  {
   "cell_type": "markdown",
   "metadata": {},
   "source": [
    "### Violin Plot"
   ]
  },
  {
   "cell_type": "code",
   "execution_count": null,
   "metadata": {},
   "outputs": [],
   "source": [
    "sns.violinplot(points_x, points_y, scale = \"width\")\n",
    "plt.xlabel('Number of people killed')\n",
    "plt.ylabel('Number of people injured')\n",
    "plt.title('A violin plot of the number of people killed vs the number of people injured')"
   ]
  },
  {
   "cell_type": "markdown",
   "metadata": {},
   "source": [
    "Compare this violin plot against the scatter plot of the same data above."
   ]
  },
  {
   "cell_type": "markdown",
   "metadata": {},
   "source": [
    "### Contour Plot"
   ]
  },
  {
   "cell_type": "code",
   "execution_count": null,
   "metadata": {},
   "outputs": [],
   "source": [
    "plt.figure(figsize = (10, 8))\n",
    "sns.kdeplot(points_x, points_y, cbar = True, cmap=\"OrRd\")\n",
    "plt.xlim(-1, 2.5)\n",
    "plt.ylim(-1, 2.5)\n",
    "plt.ylabel('injured')\n",
    "plt.xlabel('killed')\n",
    "plt.title('Bivariate Kernel Density Estimate of the number of people killed vs number of people injured')"
   ]
  },
  {
   "cell_type": "markdown",
   "metadata": {},
   "source": [
    "### Heat Map"
   ]
  },
  {
   "cell_type": "markdown",
   "metadata": {},
   "source": [
    "The dataset is not \"rectangularizable\", i.e. each feature cannot be coherently represented as a matrix, so to demonstrate the properties of the heatmap and how to create one, we will create random data."
   ]
  },
  {
   "cell_type": "code",
   "execution_count": null,
   "metadata": {},
   "outputs": [],
   "source": [
    "ten_by_twelve = np.random.rand(10, 12)\n",
    "# Documentation for np.random.rand: https://docs.scipy.org/doc/numpy/reference/generated/numpy.random.rand.html\n",
    "# Creating a 10x12 matrix and populating it with data randomly sampled from a uniform(0,1) distribution.\n",
    "ax = sns.heatmap(ten_by_twelve)"
   ]
  },
  {
   "cell_type": "markdown",
   "metadata": {},
   "source": [
    "As we can see, this is not a meaningful example"
   ]
  },
  {
   "cell_type": "code",
   "execution_count": null,
   "metadata": {},
   "outputs": [],
   "source": [
    "# sns has default datasets available for data analysis: https://seaborn.pydata.org/generated/seaborn.load_dataset.html\n",
    "# Using these random datasets, we can create an example with meaning\n",
    "flights = sns.load_dataset(\"flights\")\n",
    "flights = flights.pivot(\"month\", \"year\", \"passengers\")\n",
    "ax = sns.heatmap(flights)"
   ]
  },
  {
   "cell_type": "markdown",
   "metadata": {},
   "source": [
    "<a id='customization'></a>\n",
    "# Customization\n",
    "____"
   ]
  },
  {
   "cell_type": "markdown",
   "metadata": {},
   "source": [
    "As you saw above, there was a decent amount of customization in the plots that we've created. \n",
    "So how do you generally think about customization?"
   ]
  },
  {
   "cell_type": "markdown",
   "metadata": {},
   "source": [
    "<font color='red'> [ Your-Response-Here ] </font>"
   ]
  },
  {
   "cell_type": "markdown",
   "metadata": {},
   "source": [
    "**Note:** We can use matplotlib's customization properties to wrap around seaborn plots. So, essentially matplotlib allows you to customize matplotlib <b>and</b> seaborn plots!"
   ]
  },
  {
   "cell_type": "markdown",
   "metadata": {},
   "source": [
    "**Setting x and y ticks manually:** \n",
    "Use plt.xticks and plt.yticks to set the location and labels on the x and y axes.\n",
    "* yticks Documentation: https://matplotlib.org/api/_as_gen/matplotlib.pyplot.xticks.html\n",
    "* xticks Documentation: https://matplotlib.org/api/_as_gen/matplotlib.pyplot.yticks.html\n",
    "\n",
    "That's how we were able to reduce the number of dates being plotted above in the time series analysis."
   ]
  },
  {
   "cell_type": "markdown",
   "metadata": {},
   "source": [
    "**Color:**\n",
    "Every plotting function will accept a color function: \n",
    "* As a color map (for multiple plots on the same plot you need to specify different colors)\n",
    "* As an argument for a single plot on a plot (usually the c or color parameter which you pass a string to)\n",
    "\n",
    "Here are some common colors that you can use: https://matplotlib.org/2.0.2/api/colors_api.html\n",
    "There are a large variety of different color mappings that you can specify: https://matplotlib.org/tutorials/colors/colormaps.html"
   ]
  },
  {
   "cell_type": "markdown",
   "metadata": {},
   "source": [
    "**Legend:**\n",
    "Usually it's good practice that if you have multiple plots on the same plot, you should provide a legend to denote which plot is being referred to.\n",
    "\n",
    "Documentation: https://matplotlib.org/api/_as_gen/matplotlib.pyplot.legend.html\n",
    "\n",
    "This function takes usually two arguments: a list of handles, and a list of labels\n",
    " * Handles: these are the plot objects themselves\n",
    " * Labels: what do we want to label these plots as?"
   ]
  },
  {
   "cell_type": "markdown",
   "metadata": {},
   "source": [
    "There's a lot more that you can do to customize your plots apart from what is listed here. The best way to figure out customization schemes is to experiment on given dataset to determine the best possible way to describe the data."
   ]
  }
 ],
 "metadata": {
  "kernelspec": {
   "display_name": "Python 3",
   "language": "python",
   "name": "python3"
  },
  "language_info": {
   "codemirror_mode": {
    "name": "ipython",
    "version": 3
   },
   "file_extension": ".py",
   "mimetype": "text/x-python",
   "name": "python",
   "nbconvert_exporter": "python",
   "pygments_lexer": "ipython3",
   "version": "3.6.7"
  }
 },
 "nbformat": 4,
 "nbformat_minor": 2
}
