{
 "cells": [
  {
   "cell_type": "markdown",
   "metadata": {},
   "source": [
    "# INFO 98: Data Science Skills, Spring 2019\n",
    "## Lecture 06: Hypothesis Testing \n",
    "\n",
    "---"
   ]
  },
  {
   "cell_type": "markdown",
   "metadata": {},
   "source": [
    "## Table of Contents\n",
    "* [Setup](#setup)\n",
    "* [Demo](#demo)\n",
    "* [Custom Dice Test](#customization)"
   ]
  },
  {
   "cell_type": "markdown",
   "metadata": {},
   "source": [
    "<a id='setup'></a>\n",
    "# Setup\n",
    "____"
   ]
  },
  {
   "cell_type": "code",
   "execution_count": null,
   "metadata": {},
   "outputs": [],
   "source": [
    "import numpy as np\n",
    "from datascience import *\n",
    "\n",
    "import matplotlib\n",
    "%matplotlib inline\n",
    "import matplotlib.pyplot as plt\n",
    "plt.style.use('fivethirtyeight')\n",
    "import warnings\n",
    "warnings.simplefilter('ignore', FutureWarning)\n",
    "from matplotlib import patches\n",
    "from ipywidgets import interact, interactive, fixed\n",
    "import ipywidgets as widgets"
   ]
  },
  {
   "cell_type": "markdown",
   "metadata": {},
   "source": [
    "<a id='demo'></a>\n",
    "# Demo\n",
    "___"
   ]
  },
  {
   "cell_type": "markdown",
   "metadata": {},
   "source": [
    "## Simulating Flipping of a Coin"
   ]
  },
  {
   "cell_type": "markdown",
   "metadata": {},
   "source": [
    "We are now going to simulate 20 flips of a fair coin 10,000 times!\n",
    "\n",
    "**Null Hypothesis:** The coin is fair \n",
    "\n",
    "We are hence gonna simulate under this assumption (equal chance of getting a heads or a tails)\n",
    "\n",
    "A simple but effective measure of this fairness is the absolute value of the difference between the numbers of heads and tails. High values indicate a biased coin and low values indicate a fair coin. This will be our test statistic.\n",
    "\n",
    "We are gonna be using the sample_proportions function to simulate our coin tosses. The details of the function are given on the next slide.\n",
    "\n",
    "The following demonstrates one simulation of 20 flips of a coin:"
   ]
  },
  {
   "cell_type": "code",
   "execution_count": null,
   "metadata": {},
   "outputs": [],
   "source": [
    "model_proportions = make_array(.5,.5) #Fairness of our coin\n",
    "repetitions=20\n",
    "\n",
    "one_simulation = sample_proportions(repetitions, model_proportions)#vOne simulation of 20 flips of a coin\n",
    "\n",
    "# We mutiply by repetitions because sample_proportions returns a proportions and not an integer\n",
    "num_heads= one_simulation.item(0)*repetitions # the first item represents the number of heads                                        \n",
    "num_tails= one_simulation.item(1)*repetitions # the second item represents the number of heads\n",
    "\n",
    "print(one_simulation)\n",
    "print(num_heads)\n",
    "print(num_tails)\n"
   ]
  },
  {
   "cell_type": "markdown",
   "metadata": {},
   "source": [
    "We then define a function that gives us our **test statistic** given a certain number of heads and tails."
   ]
  },
  {
   "cell_type": "code",
   "execution_count": null,
   "metadata": {},
   "outputs": [],
   "source": [
    "def statistic(heads,tails):\n",
    "    return abs(heads - tails)\n",
    "\n",
    "statistic(num_heads,num_tails)\n"
   ]
  },
  {
   "cell_type": "markdown",
   "metadata": {},
   "source": [
    "We now put both these elements together with a loop to simulate 20 flips of a coin 10,000 times. We then calculate the test statistic for each of these 10,000 times we flipped 20 coins and store this in an array.\n",
    "\n",
    "This function below simulates number of flips desired for the coin, coin_flips, defined with the fairness of fairness_of_coin. The first element represents heads and the second tails. \n",
    "\n",
    "An example of coin biased towards heads would have fairness_of_coin be an array with (0.7,0.3).\n",
    "Similarly, a coin biased towards tails would have a fairness_of_coin defined as (0.3,0.7)"
   ]
  },
  {
   "cell_type": "code",
   "execution_count": null,
   "metadata": {},
   "outputs": [],
   "source": [
    "def simulation_and_statistic(coin_flips, fairness_of_coin):\n",
    "    # Don't Worry if you don't understand why the code is doing what it is doing\n",
    "    \n",
    "    One_simulation = sample_proportions(coin_flips, fairness_of_coin)\n",
    "    num_heads= One_simulation.item(0)*coin_flips\n",
    "                                            \n",
    "    num_tails= One_simulation.item(1)*coin_flips\n",
    "    simulated_statistic = statistic(num_heads,num_tails)\n",
    "    return simulated_statistic\n"
   ]
  },
  {
   "cell_type": "markdown",
   "metadata": {},
   "source": [
    "We want to repeat this simulation 10000 times. We use a for loop to do this as shown below. We then store our test statistic for every simulation i.e The absolute difference between the number of heads and tails in an array. We do this for a fair coin first - hence our 2 element array is (0.5,0.5). "
   ]
  },
  {
   "cell_type": "code",
   "execution_count": null,
   "metadata": {},
   "outputs": [],
   "source": [
    "repetitions = 20\n",
    "num_simulations = 10000\n",
    "fair_coin = make_array(.5,.5)\n",
    "\n",
    "\n",
    "fair_coin_simulated_statistics = make_array() # Don't Worry if you don't understand why the code is doing what it is doing\n",
    "\n",
    "for i in np.arange(num_simulations):\n",
    "    fair_coin_simulated_statistics = np.append(fair_coin_simulated_statistics,\n",
    "                                               simulation_and_statistic(repetitions,\n",
    "                                                                        fair_coin))\n",
    "    "
   ]
  },
  {
   "cell_type": "markdown",
   "metadata": {},
   "source": [
    "We now have an array of 10000 values with each value representing the test statistic(Absolute difference of number of heads and number of tails) for one repetition of us flipping a coin 20 times"
   ]
  },
  {
   "cell_type": "code",
   "execution_count": null,
   "metadata": {},
   "outputs": [],
   "source": [
    "fair_coin_simulated_statistics "
   ]
  },
  {
   "cell_type": "markdown",
   "metadata": {},
   "source": [
    "We now create a histogram of all the values in fair_coin_simulated_statistics "
   ]
  },
  {
   "cell_type": "code",
   "execution_count": null,
   "metadata": {},
   "outputs": [],
   "source": [
    "fair = Table().with_column('Absolute Difference between # of heads and tails', fair_coin_simulated_statistics )\n",
    "\n",
    "fair.hist(bins=make_array(0,2,4,6,8,10,12,14,16,18,20))"
   ]
  },
  {
   "cell_type": "markdown",
   "metadata": {},
   "source": [
    "Just to see if our simulation works like we think it should we repeat the same process but with a different coin - a coin biased towards heads"
   ]
  },
  {
   "cell_type": "code",
   "execution_count": null,
   "metadata": {},
   "outputs": [],
   "source": [
    "repetitions = 20\n",
    "num_simulations = 10000\n",
    "unfair_coin = make_array(0.8,0.2)\n",
    "\n",
    "\n",
    "unfair_coin_simulated_statistics = make_array() # Don't Worry if you don't understand why the code is doing what it is doing\n",
    "\n",
    "for i in np.arange(num_simulations):\n",
    "    unfair_coin_simulated_statistics = np.append(unfair_coin_simulated_statistics, simulation_and_statistic(repetitions, unfair_coin))"
   ]
  },
  {
   "cell_type": "markdown",
   "metadata": {},
   "source": [
    "Make a histogram again! What do you notice?"
   ]
  },
  {
   "cell_type": "code",
   "execution_count": null,
   "metadata": {},
   "outputs": [],
   "source": [
    "unfair = Table().with_column('Absolute Difference between # of heads and tails', unfair_coin_simulated_statistics )\n",
    "\n",
    "unfair.hist(bins=make_array(0,2,4,6,8,10,12,14,16,18,20))"
   ]
  },
  {
   "cell_type": "markdown",
   "metadata": {},
   "source": [
    "## Computing P-Value"
   ]
  },
  {
   "cell_type": "markdown",
   "metadata": {},
   "source": [
    "We now want to see how unlikely our observed event of getting 15 heads and 5 tails(or an event that is even more unfair) was assuming our coin was fair. Our observed test statistic is hence 10 since the absolute difference between 15 and 5 is 10."
   ]
  },
  {
   "cell_type": "code",
   "execution_count": null,
   "metadata": {},
   "outputs": [],
   "source": [
    "observed_test_statistic = statistic(15,5)\n",
    "observed_test_statistic"
   ]
  },
  {
   "cell_type": "code",
   "execution_count": null,
   "metadata": {},
   "outputs": [],
   "source": [
    "fair = Table().with_column('Absolute Difference between # of heads and tails', fair_coin_simulated_statistics )\n",
    "\n",
    "fair.hist(bins=make_array(0,2,4,6,8,10,12,14,16,18,20))\n",
    "plt.scatter(observed_test_statistic, 0, color='red', s=60);"
   ]
  },
  {
   "cell_type": "markdown",
   "metadata": {},
   "source": [
    "To see how likely it is for us to get a test statistic of at least 10 we essentialy need to calculate the area to the right of 10 in the first histogram. Why do we choose the first histogram and not the second one? We want to work with the assumption that the coin was fair in the first place. We hence compare our observed test statistic to the distribution we get when we flip a fair coin. **(Always simulate under the null remember!)**"
   ]
  },
  {
   "cell_type": "code",
   "execution_count": null,
   "metadata": {},
   "outputs": [],
   "source": [
    "proportion_greater_or_equal = sum(fair_coin_simulated_statistics >=observed_test_statistic)/len(fair_coin_simulated_statistics) # SOLUTION\n",
    "proportion_greater_or_equal "
   ]
  },
  {
   "cell_type": "markdown",
   "metadata": {},
   "source": [
    "**Converting this to a percentage:**"
   ]
  },
  {
   "cell_type": "code",
   "execution_count": null,
   "metadata": {},
   "outputs": [],
   "source": [
    "proportion_greater_or_equal_percentage = proportion_greater_or_equal*100\n",
    "proportion_greater_or_equal_percentage\n"
   ]
  },
  {
   "cell_type": "markdown",
   "metadata": {},
   "source": [
    "**This is hence our P-Value. It gives us the probability  assuming that we have a fair coin that we get an absolute difference of 10 or greater purely by chance. Intuitively speaking this is very low but whether we choose to reject or not our null hypothesis depends on our significance level. We assumed our significance level to be 5% and we hence reject our null hypothesis. Our conclusion is that based on our observations, the coin is not fair - there is something other than chance causing the results we have seen.**"
   ]
  },
  {
   "cell_type": "markdown",
   "metadata": {},
   "source": [
    "\n",
    "Let us now do the exact same calculation but with the second histogram that has results of the coin that was biased towards heads"
   ]
  },
  {
   "cell_type": "code",
   "execution_count": null,
   "metadata": {},
   "outputs": [],
   "source": [
    "unfair.hist(bins=make_array(0,2,4,6,8,10,12,14,16,18,20))\n",
    "plt.scatter(observed_test_statistic, 0, color='red', s=60);"
   ]
  },
  {
   "cell_type": "code",
   "execution_count": null,
   "metadata": {},
   "outputs": [],
   "source": [
    "proportion_greater_or_equal_unfair = sum(unfair_coin_simulated_statistics >=observed_test_statistic)/len(unfair_coin_simulated_statistics)\n",
    "\n",
    "proportion_greater_or_equal_unfair\n",
    "proportion_greater_or_equal_unfair_percentage = proportion_greater_or_equal_unfair*100 #To percentage\n",
    "proportion_greater_or_equal_unfair_percentage\n"
   ]
  },
  {
   "cell_type": "markdown",
   "metadata": {},
   "source": [
    "This as is evident is a very high p-value. We clearly fail to reject our null hypothesis here as this is much higher than our 5% significance level. This makes intuitive sense though. For a coin that turns to heads 70% of the times- getting 15 heads and 5 tails doesn't seem that out of the ordinary. This is reflected in the P-value"
   ]
  },
  {
   "cell_type": "markdown",
   "metadata": {},
   "source": [
    "**Congratulations!! You just finished your first two hypothesis tests** We can do a very similar hypothesis test with die as well with some changes that account for the 6 possible outcomes instead of 2"
   ]
  },
  {
   "cell_type": "markdown",
   "metadata": {},
   "source": [
    "<a id='customization'></a>\n",
    "# Custom Dice Test\n",
    "____"
   ]
  },
  {
   "cell_type": "code",
   "execution_count": null,
   "metadata": {},
   "outputs": [],
   "source": [
    "# Splitting/aggregating the data to get the number of gun deaths in each year.\n",
    "deaths_agg_by_year = {}\n",
    "for i in ca_split_by_year:\n",
    "    if i in deaths_agg_by_year.keys():\n",
    "        deaths_agg_by_year[i] += 1\n",
    "    else:\n",
    "        deaths_agg_by_year[i] = 1"
   ]
  },
  {
   "cell_type": "code",
   "execution_count": null,
   "metadata": {},
   "outputs": [],
   "source": [
    "deaths_agg_by_year"
   ]
  },
  {
   "cell_type": "code",
   "execution_count": null,
   "metadata": {},
   "outputs": [],
   "source": [
    "plt.bar(deaths_agg_by_year.keys(), deaths_agg_by_year.values())\n",
    "plt.ylabel('Number of gun deaths in that year')\n",
    "plt.xlabel('Year')\n",
    "plt.title('Number of gun deaths by year in California')"
   ]
  }
 ],
 "metadata": {
  "kernelspec": {
   "display_name": "Python 3",
   "language": "python",
   "name": "python3"
  },
  "language_info": {
   "codemirror_mode": {
    "name": "ipython",
    "version": 3
   },
   "file_extension": ".py",
   "mimetype": "text/x-python",
   "name": "python",
   "nbconvert_exporter": "python",
   "pygments_lexer": "ipython3",
   "version": "3.6.7"
  }
 },
 "nbformat": 4,
 "nbformat_minor": 2
}
