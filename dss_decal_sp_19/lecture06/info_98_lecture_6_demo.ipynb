{
 "cells": [
  {
   "cell_type": "markdown",
   "metadata": {},
   "source": [
    "# INFO 98: Data Science Skills, Spring 2019\n",
    "## Lecture 06: Hypothesis Testing \n",
    "\n",
    "---"
   ]
  },
  {
   "cell_type": "markdown",
   "metadata": {},
   "source": [
    "**Null Hypothesis**"
   ]
  },
  {
   "cell_type": "markdown",
   "metadata": {},
   "source": [
    "## Table of Contents\n",
    "* [Setup](#setup)\n",
    "* [Demo](#demo)\n",
    "    * Histogram\n",
    "    * Bar Plot\n",
    "    * Box Plot\n",
    "    * Line Graph\n",
    "    * Scatter Plot\n",
    "    * Contout Plot\n",
    "    * Heat Map\n",
    "* [Customization](#customization)"
   ]
  },
  {
   "cell_type": "markdown",
   "metadata": {},
   "source": [
    "<a id='setup'></a>\n",
    "# Setup\n",
    "____"
   ]
  },
  {
   "cell_type": "code",
   "execution_count": 1,
   "metadata": {},
   "outputs": [
    {
     "name": "stdout",
     "output_type": "stream",
     "text": [
      "Requirement already satisfied: numpy in /srv/app/venv/lib/python3.6/site-packages\n",
      "Requirement already satisfied: pandas in /srv/app/venv/lib/python3.6/site-packages\n",
      "Requirement already satisfied: numpy>=1.9.0 in /srv/app/venv/lib/python3.6/site-packages (from pandas)\n",
      "Requirement already satisfied: python-dateutil>=2.5.0 in /srv/app/venv/lib/python3.6/site-packages (from pandas)\n",
      "Requirement already satisfied: pytz>=2011k in /srv/app/venv/lib/python3.6/site-packages (from pandas)\n",
      "Requirement already satisfied: six>=1.5 in /srv/app/venv/lib/python3.6/site-packages (from python-dateutil>=2.5.0->pandas)\n",
      "Requirement already satisfied: matplotlib in /srv/app/venv/lib/python3.6/site-packages\n",
      "Requirement already satisfied: pyparsing!=2.0.4,!=2.1.2,!=2.1.6,>=2.0.1 in /srv/app/venv/lib/python3.6/site-packages (from matplotlib)\n",
      "Requirement already satisfied: numpy>=1.10.0 in /srv/app/venv/lib/python3.6/site-packages (from matplotlib)\n",
      "Requirement already satisfied: cycler>=0.10 in /srv/app/venv/lib/python3.6/site-packages (from matplotlib)\n",
      "Requirement already satisfied: kiwisolver>=1.0.1 in /srv/app/venv/lib/python3.6/site-packages (from matplotlib)\n",
      "Requirement already satisfied: python-dateutil>=2.1 in /srv/app/venv/lib/python3.6/site-packages (from matplotlib)\n",
      "Requirement already satisfied: six in /srv/app/venv/lib/python3.6/site-packages (from cycler>=0.10->matplotlib)\n",
      "Requirement already satisfied: setuptools in /srv/app/venv/lib/python3.6/site-packages (from kiwisolver>=1.0.1->matplotlib)\n",
      "Requirement already satisfied: seaborn in /srv/app/venv/lib/python3.6/site-packages\n"
     ]
    }
   ],
   "source": [
    "# Comment out !pip install statements if you have those packages installed.\n",
    "\n",
    "!pip install numpy\n",
    "!pip install pandas\n",
    "!pip install matplotlib\n",
    "!pip install seaborn\n",
    "\n",
    "import numpy as np\n",
    "import pandas as pd\n",
    "import matplotlib.pyplot as plt\n",
    "import seaborn as sns\n",
    "import re"
   ]
  },
  {
   "cell_type": "code",
   "execution_count": 2,
   "metadata": {},
   "outputs": [],
   "source": [
    "# Run this cell, but please don't change it.\n",
    "\n",
    "# These lines import the Numpy and Datascience modules.\n",
    "import numpy as np\n",
    "from datascience import *\n",
    "\n",
    "# These lines do some fancy plotting magic\n",
    "import matplotlib\n",
    "%matplotlib inline\n",
    "import matplotlib.pyplot as plt\n",
    "plt.style.use('fivethirtyeight')\n",
    "import warnings\n",
    "warnings.simplefilter('ignore', FutureWarning)\n",
    "from matplotlib import patches\n",
    "from ipywidgets import interact, interactive, fixed\n",
    "import ipywidgets as widgets\n",
    "\n"
   ]
  },
  {
   "cell_type": "markdown",
   "metadata": {},
   "source": [
    "<a id='Demo'></a>\n",
    "# Demo\n",
    "___"
   ]
  },
  {
   "cell_type": "markdown",
   "metadata": {},
   "source": [
    "## **Simulating the flip of a coin**\n"
   ]
  },
  {
   "cell_type": "markdown",
   "metadata": {},
   "source": [
    "**NOTE**: We are now going to simulate 20 flips of a fair coin 10,000 times\n",
    "\n",
    "Our null hypothesis is that the coin is fair- we are hence gonna simulate under this assumption(Equal chance of getting a heads or a tails)\n",
    "\n",
    "A simple but effective measure of this fairness is the absolute value of the difference between the numbers of heads and tails. High values indicate a biased coin and low values indicate a fair coin. This will be our test statistic.\n",
    "\n",
    "We are gonna be using the sample _proportions function to simulate our coin tosses. The details of the function are given on the next slide.\n",
    "\n",
    "The following demonstrates one simulation of 20 flips of a coin"
   ]
  },
  {
   "cell_type": "code",
   "execution_count": 3,
   "metadata": {},
   "outputs": [
    {
     "name": "stdout",
     "output_type": "stream",
     "text": [
      "10.0\n",
      "10.0\n"
     ]
    }
   ],
   "source": [
    "model_proportions = make_array(.5,.5) #Fairness of our coin\n",
    "repetitions=20\n",
    "\n",
    "One_simulation = sample_proportions(repetitions, model_proportions)#vOne simulation of 20 flips of a coin\n",
    "\n",
    "\n",
    "#We mutiply by repetitions because sample_proportions returns a proportions and not an integer\n",
    "num_heads= One_simulation.item(0)*repetitions #the first item represents the number of heads\n",
    "                                            \n",
    "num_tails= One_simulation.item(1)*repetitions #the second item represents the number of heads\n",
    "\n",
    "print(num_heads)\n",
    "print(num_tails)\n",
    "\n",
    "\n"
   ]
  },
  {
   "cell_type": "markdown",
   "metadata": {},
   "source": [
    "We then define a function that gives us our test statistic given a certain number of heads and tails."
   ]
  },
  {
   "cell_type": "code",
   "execution_count": 4,
   "metadata": {},
   "outputs": [
    {
     "data": {
      "text/plain": [
       "0.0"
      ]
     },
     "execution_count": 4,
     "metadata": {},
     "output_type": "execute_result"
    }
   ],
   "source": [
    "def statistic(heads,tails):\n",
    "\n",
    "    return abs(heads - tails)\n",
    "\n",
    "statistic(num_heads,num_tails)"
   ]
  },
  {
   "cell_type": "markdown",
   "metadata": {},
   "source": [
    "We now put both these elements together with a loop to simulate 20 flips of a coin 10,000 times. We then calculate the test statistic for each of these 10,000 times we flipped 20 coins and store this in an array.\n",
    "\n",
    "This function below simulates **ONCE** coin_flips number of flips for a coin defined with the fairness of fairness_of_coin. The first element represents heads and the second tails. \n",
    "\n",
    "An example of coin biased towards heads would have fairness_of_coin be an array with (0.7,0.3) - similarly a coin biased towards tails would have an exampe fairness_of_coin defined as (0.3,0.7)"
   ]
  },
  {
   "cell_type": "code",
   "execution_count": 5,
   "metadata": {},
   "outputs": [],
   "source": [
    "\n",
    "\n",
    "def simulation_and_statistic(coin_flips, fairness_of_coin):# Don't Worry if you don't understand why the code is doing what it is doing\n",
    "\n",
    "\n",
    "\n",
    "    One_simulation = sample_proportions(coin_flips, fairness_of_coin)\n",
    "    num_heads= One_simulation.item(0)*coin_flips\n",
    "                                            \n",
    "    num_tails= One_simulation.item(1)*coin_flips\n",
    "    simulated_statistic = statistic(num_heads,num_tails)\n",
    "    return simulated_statistic\n",
    "\n"
   ]
  },
  {
   "cell_type": "markdown",
   "metadata": {},
   "source": [
    "We want to repeat this simulation 10000 times. We use a for loop to do this as shown below. We then store our test statistic for every simulation i.e The absolute difference between the number of heads and tails in an array. We do this for a fair coin first - hence our 2 element array is (0.5,0.5). "
   ]
  },
  {
   "cell_type": "code",
   "execution_count": 6,
   "metadata": {},
   "outputs": [],
   "source": [
    "repetitions = 20\n",
    "num_simulations = 10000\n",
    "fair_coin = make_array(.5,.5)\n",
    "\n",
    "\n",
    "fair_coin_simulated_statistics = make_array() # Don't Worry if you don't understand why the code is doing what it is doing\n",
    "\n",
    "for i in np.arange(num_simulations):\n",
    "    fair_coin_simulated_statistics = np.append(fair_coin_simulated_statistics, simulation_and_statistic(repetitions, fair_coin))"
   ]
  },
  {
   "cell_type": "markdown",
   "metadata": {},
   "source": [
    "We now have an array of 10000 values with each value representing the test statistic(Absolute difference of number of heads and number of tails) for one repetition of us flipping a coin 20 times"
   ]
  },
  {
   "cell_type": "code",
   "execution_count": 7,
   "metadata": {},
   "outputs": [
    {
     "data": {
      "text/plain": [
       "array([12.,  4.,  4., ...,  2.,  8.,  2.])"
      ]
     },
     "execution_count": 7,
     "metadata": {},
     "output_type": "execute_result"
    }
   ],
   "source": [
    "fair_coin_simulated_statistics "
   ]
  },
  {
   "cell_type": "markdown",
   "metadata": {},
   "source": [
    "We now create a histogram of all the values in fair_coin_simulated_statistics "
   ]
  },
  {
   "cell_type": "code",
   "execution_count": 8,
   "metadata": {},
   "outputs": [
    {
     "data": {
      "image/png": "[encoded data removed]",
      "text/plain": [
       "<Figure size 432x288 with 1 Axes>"
      ]
     },
     "metadata": {},
     "output_type": "display_data"
    }
   ],
   "source": [
    "fair = Table().with_column('Absolute Difference between # of heads and tails', fair_coin_simulated_statistics )\n",
    "\n",
    "fair.hist(bins=make_array(0,2,4,6,8,10,12,14,16,18,20))"
   ]
  },
  {
   "cell_type": "markdown",
   "metadata": {},
   "source": [
    "Just to see if our simulation works like we think it should we repeat the same process but with a different coin - a coin biased towards heads"
   ]
  },
  {
   "cell_type": "code",
   "execution_count": 9,
   "metadata": {},
   "outputs": [],
   "source": [
    "repetitions = 20\n",
    "num_simulations = 10000\n",
    "unfair_coin = make_array(0.8,0.2)\n",
    "\n",
    "\n",
    "unfair_coin_simulated_statistics = make_array() # Don't Worry if you don't understand why the code is doing what it is doing\n",
    "\n",
    "for i in np.arange(num_simulations):\n",
    "    unfair_coin_simulated_statistics = np.append(unfair_coin_simulated_statistics, simulation_and_statistic(repetitions, unfair_coin))"
   ]
  },
  {
   "cell_type": "markdown",
   "metadata": {},
   "source": [
    "Make a histogram again! What do you notice?"
   ]
  },
  {
   "cell_type": "code",
   "execution_count": 10,
   "metadata": {},
   "outputs": [
    {
     "data": {
      "image/png": "[encoded data removed]",
      "text/plain": [
       "<Figure size 432x288 with 1 Axes>"
      ]
     },
     "metadata": {},
     "output_type": "display_data"
    }
   ],
   "source": [
    "unfair = Table().with_column('Absolute Difference between # of heads and tails', unfair_coin_simulated_statistics )\n",
    "\n",
    "unfair.hist(bins=make_array(0,2,4,6,8,10,12,14,16,18,20))"
   ]
  },
  {
   "cell_type": "markdown",
   "metadata": {},
   "source": [
    "### Calculating our P Value"
   ]
  },
  {
   "cell_type": "markdown",
   "metadata": {},
   "source": [
    "We now want to see how unlikely our observed event of getting 15 heads and 5 tails(or an event that is even more unfair) was assuming our coin was fair. Our observed test statistic is hence 10 since the absolute difference between 15 and 5 is 10."
   ]
  },
  {
   "cell_type": "code",
   "execution_count": null,
   "metadata": {},
   "outputs": [],
   "source": []
  },
  {
   "cell_type": "code",
   "execution_count": 11,
   "metadata": {},
   "outputs": [
    {
     "data": {
      "text/plain": [
       "10"
      ]
     },
     "execution_count": 11,
     "metadata": {},
     "output_type": "execute_result"
    }
   ],
   "source": [
    "observed_test_statistic = statistic(15,5)\n",
    "observed_test_statistic"
   ]
  },
  {
   "cell_type": "code",
   "execution_count": 13,
   "metadata": {},
   "outputs": [
    {
     "data": {
      "image/png": "[encoded data removed]",
      "text/plain": [
       "<Figure size 432x288 with 1 Axes>"
      ]
     },
     "metadata": {},
     "output_type": "display_data"
    }
   ],
   "source": [
    "fair = Table().with_column('Absolute Difference between # of heads and tails', fair_coin_simulated_statistics )\n",
    "\n",
    "fair.hist(bins=make_array(0,2,4,6,8,10,12,14,16,18,20))\n",
    "plt.scatter(observed_test_statistic, 0, color='red', s=60);"
   ]
  },
  {
   "cell_type": "markdown",
   "metadata": {},
   "source": [
    "To see how likely it is for us to get a test statistic of at least 10 we essentialy need to calculate the area to the right of 10 in the first histogram. Why do we choose the first histogram and not the second one? We want to work with the assumption that the coin was fair in the first place. We hence compare our observed test statistic to the distribution we get when we flip a fair coin. **(Always simulate under the null remember!)**"
   ]
  },
  {
   "cell_type": "code",
   "execution_count": 17,
   "metadata": {},
   "outputs": [
    {
     "data": {
      "text/plain": [
       "0.0389"
      ]
     },
     "execution_count": 17,
     "metadata": {},
     "output_type": "execute_result"
    }
   ],
   "source": [
    "proportion_greater_or_equal = sum(fair_coin_simulated_statistics >=observed_test_statistic)/len(fair_coin_simulated_statistics) # SOLUTION\n",
    "proportion_greater_or_equal "
   ]
  },
  {
   "cell_type": "markdown",
   "metadata": {},
   "source": [
    "**Converting this to a percentage**"
   ]
  },
  {
   "cell_type": "code",
   "execution_count": 19,
   "metadata": {},
   "outputs": [
    {
     "data": {
      "text/plain": [
       "3.8899999999999997"
      ]
     },
     "execution_count": 19,
     "metadata": {},
     "output_type": "execute_result"
    }
   ],
   "source": [
    "proportion_greater_or_equal_percentage = proportion_greater_or_equal*100\n",
    "proportion_greater_or_equal_percentage\n"
   ]
  },
  {
   "cell_type": "markdown",
   "metadata": {},
   "source": [
    "**This is hence our P-Value. It gives us the probability  assuming that we have a fair coin that we get an absolute difference of 10 or greater purely by chance. Intuitively speaking this is very low but whether we choose to reject or not our null hypothesis depends on our significance level. We assumed our significance level to be 5% and we hence reject our null hypothesis. Our conclusion is that based on our observations, the coin is not fair - there is something other than chance causing the results we have seen.**"
   ]
  },
  {
   "cell_type": "markdown",
   "metadata": {},
   "source": [
    "\n",
    "Let us now do the exact same calculation but with the second histogram that has results of the coin that was biased towards heads"
   ]
  },
  {
   "cell_type": "code",
   "execution_count": 20,
   "metadata": {},
   "outputs": [
    {
     "data": {
      "image/png": "[encoded data removed]",
      "text/plain": [
       "<Figure size 432x288 with 1 Axes>"
      ]
     },
     "metadata": {},
     "output_type": "display_data"
    }
   ],
   "source": [
    "unfair.hist(bins=make_array(0,2,4,6,8,10,12,14,16,18,20))\n",
    "plt.scatter(observed_test_statistic, 0, color='red', s=60);"
   ]
  },
  {
   "cell_type": "markdown",
   "metadata": {},
   "source": [
    "proportion_greater_or_equal_unfair = sum(unfair_coin_simulated_statistics >=observed_test_statistic)/len(unfair_coin_simulated_statistics)\n",
    "\n",
    "proportion_greater_or_equal_unfair\n",
    "proportion_greater_or_equal_unfair_percentage = proportion_greater_or_equal_unfair*100 #To percentage\n",
    "proportion_greater_or_equal_unfair_percentage\n"
   ]
  },
  {
   "cell_type": "markdown",
   "metadata": {},
   "source": [
    "This as is evident is a very high p-value. We clearly fail to reject our null hypothesis here as this is much higher than our 5% significance level. This makes intuitive sense though. For a coin that turns to heads 70% of the times- getting 15 heads and 5 tails doesn't seem that out of the ordinary. This is reflected in the P-value"
   ]
  },
  {
   "cell_type": "markdown",
   "metadata": {},
   "source": [
    "**Congratulations!! You just finished your first two hypothesis tests** We can do a very similar hypothesis test with die as well with some changes that account for the 6 possible outcomes instead of 2"
   ]
  },
  {
   "cell_type": "markdown",
   "metadata": {},
   "source": [
    "# Custom Dice Test"
   ]
  },
  {
   "cell_type": "code",
   "execution_count": null,
   "metadata": {},
   "outputs": [],
   "source": [
    "# Splitting/aggregating the data to get the number of gun deaths in each year.\n",
    "deaths_agg_by_year = {}\n",
    "for i in ca_split_by_year:\n",
    "    if i in deaths_agg_by_year.keys():\n",
    "        deaths_agg_by_year[i] += 1\n",
    "    else:\n",
    "        deaths_agg_by_year[i] = 1"
   ]
  },
  {
   "cell_type": "code",
   "execution_count": null,
   "metadata": {},
   "outputs": [],
   "source": [
    "deaths_agg_by_year"
   ]
  },
  {
   "cell_type": "code",
   "execution_count": null,
   "metadata": {},
   "outputs": [],
   "source": [
    "plt.bar(deaths_agg_by_year.keys(), deaths_agg_by_year.values())\n",
    "plt.ylabel('Number of gun deaths in that year')\n",
    "plt.xlabel('Year')\n",
    "plt.title('Number of gun deaths by year in California')"
   ]
  },
  {
   "cell_type": "markdown",
   "metadata": {},
   "source": [
    "### Box Plot"
   ]
  },
  {
   "cell_type": "markdown",
   "metadata": {},
   "source": [
    "But what if we wanted to know something more interesting about the data, like the gender distribution of the participants in gun crime?\n",
    "\n",
    "To do that, we need to manipulate the data some more, and then think of a nice visualization to use. Any ideas?"
   ]
  },
  {
   "cell_type": "code",
   "execution_count": null,
   "metadata": {
    "scrolled": true
   },
   "outputs": [],
   "source": [
    "# We clean and split the data from participant_gender column using regular expression.\n",
    "gender = [re.findall(r\"Male|Female\", s) for s in dataset['participant_gender']]\n",
    "gender"
   ]
  },
  {
   "cell_type": "code",
   "execution_count": null,
   "metadata": {},
   "outputs": [],
   "source": [
    "# Number of males in each gun crime\n",
    "num_male = [sum(1 for x in i if x == 'Male') for i in gender]"
   ]
  },
  {
   "cell_type": "code",
   "execution_count": null,
   "metadata": {},
   "outputs": [],
   "source": [
    "# Number of females in each gun crime\n",
    "num_female = [sum(1 for x in i if x == 'Female') for i in gender]"
   ]
  },
  {
   "cell_type": "code",
   "execution_count": null,
   "metadata": {},
   "outputs": [],
   "source": [
    "plt.figure(figsize = (3, 8))\n",
    "plt.boxplot(num_male)\n",
    "#sns.boxplot(data = num_male, notch = True)\n",
    "plt.ylabel('Number of males involved')\n",
    "plt.xlabel('Male')\n",
    "plt.title('A boxplot of the number of males involved in gun crimes in the dataset')"
   ]
  },
  {
   "cell_type": "code",
   "execution_count": null,
   "metadata": {},
   "outputs": [],
   "source": [
    "plt.figure(figsize = (3, 8))\n",
    "plt.boxplot(num_female)\n",
    "#sns.boxplot(data = num_female, notch = True)\n",
    "plt.ylabel('Number of females involved')\n",
    "plt.xlabel('Female')\n",
    "plt.title('A boxplot of the number of females involved in gun crimes in the dataset')"
   ]
  },
  {
   "cell_type": "markdown",
   "metadata": {},
   "source": [
    "What are some things that you can conclude with respect to gender from these boxplots?"
   ]
  },
  {
   "cell_type": "markdown",
   "metadata": {},
   "source": [
    "### Line Graph"
   ]
  },
  {
   "cell_type": "markdown",
   "metadata": {},
   "source": [
    "Let's say that we wanted to create a time series analysis of the data to see if there are any big spikes in crime on certain days. We suspect that some phenomena cause more deaths on certain days than others.\n",
    "<br>\n",
    "<br>\n",
    "What are some tools that we can use to achieve this?"
   ]
  },
  {
   "cell_type": "code",
   "execution_count": null,
   "metadata": {},
   "outputs": [],
   "source": [
    "time_grouping = dataset.groupby('date').agg({'n_killed': sum, 'n_injured': sum})"
   ]
  },
  {
   "cell_type": "code",
   "execution_count": null,
   "metadata": {},
   "outputs": [],
   "source": [
    "plt.plot(time_grouping.index, time_grouping['n_killed'])"
   ]
  },
  {
   "cell_type": "markdown",
   "metadata": {},
   "source": [
    "What is wrong with this plot? How do we fix this?"
   ]
  },
  {
   "cell_type": "code",
   "execution_count": null,
   "metadata": {},
   "outputs": [],
   "source": [
    "plt.figure(figsize = (30, 8))\n",
    "ax = plt.plot(time_grouping.index, time_grouping['n_killed'])\n",
    "plt.xticks(time_grouping.index[::20], time_grouping.index[::20], rotation = 'vertical')\n",
    "#sns.lineplot(time_grouping.index, time_grouping['n_killed'])\n",
    "plt.xlabel('Date')\n",
    "plt.ylabel('Number of people killed by guns that day')\n",
    "plt.title('The number of people killed by guns in a day over time')"
   ]
  },
  {
   "cell_type": "markdown",
   "metadata": {},
   "source": [
    "### Scatter Plot"
   ]
  },
  {
   "cell_type": "code",
   "execution_count": null,
   "metadata": {},
   "outputs": [],
   "source": [
    "# We create points where the number killed is on the x axis and the number injured is on the y axis\n",
    "points = [[dataset['n_killed'].iloc[i], dataset['n_injured'].iloc[i]] for i in range(len(dataset))]"
   ]
  },
  {
   "cell_type": "code",
   "execution_count": null,
   "metadata": {},
   "outputs": [],
   "source": [
    "points_x = np.array([points[i][0] for i in range(len(points))])\n",
    "points_y = np.array([points[x][1] for x in range(len(points))])\n",
    "plt.scatter(points_x, points_y)\n",
    "#sns.scatterplot(points_x, points_y)\n",
    "plt.xlabel('Number of people killed')\n",
    "plt.ylabel('Number of people injured')\n",
    "plt.title('Scatter plot comparing the number of people killed and injured in each gun incident')"
   ]
  },
  {
   "cell_type": "markdown",
   "metadata": {},
   "source": [
    "Does this scatter plot seem too good to be true? How is it possible that with so many points that we get a clean looking plot like this?"
   ]
  },
  {
   "cell_type": "markdown",
   "metadata": {},
   "source": [
    "### Violin Plot"
   ]
  },
  {
   "cell_type": "code",
   "execution_count": null,
   "metadata": {},
   "outputs": [],
   "source": [
    "sns.violinplot(points_x, points_y, scale = \"width\")\n",
    "plt.xlabel('Number of people killed')\n",
    "plt.ylabel('Number of people injured')\n",
    "plt.title('A violin plot of the number of people killed vs the number of people injured')"
   ]
  },
  {
   "cell_type": "markdown",
   "metadata": {},
   "source": [
    "Compare this violin plot against the scatter plot of the same data above."
   ]
  },
  {
   "cell_type": "markdown",
   "metadata": {},
   "source": [
    "### Contour Plot"
   ]
  },
  {
   "cell_type": "code",
   "execution_count": null,
   "metadata": {},
   "outputs": [],
   "source": [
    "plt.figure(figsize = (10, 8))\n",
    "sns.kdeplot(points_x, points_y, cbar = True, cmap=\"OrRd\")\n",
    "plt.xlim(-1, 2.5)\n",
    "plt.ylim(-1, 2.5)\n",
    "plt.ylabel('injured')\n",
    "plt.xlabel('killed')\n",
    "plt.title('Bivariate Kernel Density Estimate of the number of people killed vs number of people injured')"
   ]
  },
  {
   "cell_type": "markdown",
   "metadata": {},
   "source": [
    "### Heat Map"
   ]
  },
  {
   "cell_type": "markdown",
   "metadata": {},
   "source": [
    "The dataset is not \"rectangularizable\", i.e. each feature cannot be coherently represented as a matrix, so to demonstrate the properties of the heatmap and how to create one, we will create random data."
   ]
  },
  {
   "cell_type": "code",
   "execution_count": null,
   "metadata": {},
   "outputs": [],
   "source": [
    "ten_by_twelve = np.random.rand(10, 12)\n",
    "# Documentation for np.random.rand: https://docs.scipy.org/doc/numpy/reference/generated/numpy.random.rand.html\n",
    "# Creating a 10x12 matrix and populating it with data randomly sampled from a uniform(0,1) distribution.\n",
    "ax = sns.heatmap(ten_by_twelve)"
   ]
  },
  {
   "cell_type": "markdown",
   "metadata": {},
   "source": [
    "As we can see, this is not a meaningful example"
   ]
  },
  {
   "cell_type": "code",
   "execution_count": null,
   "metadata": {},
   "outputs": [],
   "source": [
    "# sns has default datasets available for data analysis: https://seaborn.pydata.org/generated/seaborn.load_dataset.html\n",
    "# Using these random datasets, we can create an example with meaning\n",
    "flights = sns.load_dataset(\"flights\")\n",
    "flights = flights.pivot(\"month\", \"year\", \"passengers\")\n",
    "ax = sns.heatmap(flights)"
   ]
  },
  {
   "cell_type": "markdown",
   "metadata": {},
   "source": [
    "<a id='customization'></a>\n",
    "# Customization\n",
    "____"
   ]
  },
  {
   "cell_type": "markdown",
   "metadata": {},
   "source": [
    "As you saw above, there was a decent amount of customization in the plots that we've created. \n",
    "So how do you generally think about customization?"
   ]
  },
  {
   "cell_type": "markdown",
   "metadata": {},
   "source": [
    "<font color='red'> [ Your-Response-Here ] </font>"
   ]
  },
  {
   "cell_type": "markdown",
   "metadata": {},
   "source": [
    "**Note:** We can use matplotlib's customization properties to wrap around seaborn plots. So, essentially matplotlib allows you to customize matplotlib <b>and</b> seaborn plots!"
   ]
  },
  {
   "cell_type": "markdown",
   "metadata": {},
   "source": [
    "**Setting x and y ticks manually:** \n",
    "Use plt.xticks and plt.yticks to set the location and labels on the x and y axes.\n",
    "* yticks Documentation: https://matplotlib.org/api/_as_gen/matplotlib.pyplot.xticks.html\n",
    "* xticks Documentation: https://matplotlib.org/api/_as_gen/matplotlib.pyplot.yticks.html\n",
    "\n",
    "That's how we were able to reduce the number of dates being plotted above in the time series analysis."
   ]
  },
  {
   "cell_type": "markdown",
   "metadata": {},
   "source": [
    "**Color:**\n",
    "Every plotting function will accept a color function: \n",
    "* As a color map (for multiple plots on the same plot you need to specify different colors)\n",
    "* As an argument for a single plot on a plot (usually the c or color parameter which you pass a string to)\n",
    "\n",
    "Here are some common colors that you can use: https://matplotlib.org/2.0.2/api/colors_api.html\n",
    "There are a large variety of different color mappings that you can specify: https://matplotlib.org/tutorials/colors/colormaps.html"
   ]
  },
  {
   "cell_type": "markdown",
   "metadata": {},
   "source": [
    "**Legend:**\n",
    "Usually it's good practice that if you have multiple plots on the same plot, you should provide a legend to denote which plot is being referred to.\n",
    "\n",
    "Documentation: https://matplotlib.org/api/_as_gen/matplotlib.pyplot.legend.html\n",
    "\n",
    "This function takes usually two arguments: a list of handles, and a list of labels\n",
    " * Handles: these are the plot objects themselves\n",
    " * Labels: what do we want to label these plots as?"
   ]
  },
  {
   "cell_type": "markdown",
   "metadata": {},
   "source": [
    "There's a lot more that you can do to customize your plots apart from what is listed here. The best way to figure out customization schemes is to experiment on given dataset to determine the best possible way to describe the data."
   ]
  }
 ],
 "metadata": {
  "kernelspec": {
   "display_name": "Python 3",
   "language": "python",
   "name": "python3"
  },
  "language_info": {
   "codemirror_mode": {
    "name": "ipython",
    "version": 3
   },
   "file_extension": ".py",
   "mimetype": "text/x-python",
   "name": "python",
   "nbconvert_exporter": "python",
   "pygments_lexer": "ipython3",
   "version": "3.6.7"
  }
 },
 "nbformat": 4,
 "nbformat_minor": 2
}
