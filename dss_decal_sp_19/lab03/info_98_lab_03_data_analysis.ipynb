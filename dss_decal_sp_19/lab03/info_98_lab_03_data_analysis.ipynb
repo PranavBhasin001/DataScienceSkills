{
 "cells": [
  {
   "cell_type": "markdown",
   "metadata": {},
   "source": [
    "# INFO 98: Data Science Skills, Spring 2019\n",
    "## Lab 03: Data Analysis\n",
    "\n",
    "---"
   ]
  },
  {
   "cell_type": "markdown",
   "metadata": {},
   "source": [
    "## Table of Contents\n",
    "* [Setup](#setup)\n",
    "* [Data Analysis](#da)\n",
    "    * [Estimation Preliminaries](#est)\n",
    "    * [Bootstrap](#boot)\n",
    "* [Example](#ex)\n",
    "    * Hypothesis Testing (Optional Review Section)\n",
    "        * Design (Optional Review Section)\n",
    "        * Test Statistic (Optional Review Section)\n",
    "        * Permutation Testing (Optional Review Section)\n",
    "    * Bootstrap Confidence Interval\n",
    "    * Summary\n",
    "    \n",
    "**Note:** Although there are some Optional Review Sections in this lab to recap the content from previous lectures that connect with the content in this lab, you would still be **required** to run the code blocks for performing the Bootstrap Confidence Internval Step. We also _highly recommend_ you to go over the content from these sections as its crucial to understand how this content connects with the bootstrap."
   ]
  },
  {
   "cell_type": "markdown",
   "metadata": {},
   "source": [
    "<a id='setup'></a>\n",
    "# Setup\n",
    "____"
   ]
  },
  {
   "cell_type": "code",
   "execution_count": null,
   "metadata": {},
   "outputs": [],
   "source": [
    "# Setup\n",
    "\n",
    "!pip install nbinteract\n",
    "import warnings\n",
    "warnings.filterwarnings(\"ignore\", message=\"numpy.dtype size changed\")\n",
    "warnings.filterwarnings(\"ignore\", message=\"numpy.ufunc size changed\")\n",
    "import re\n",
    "import random\n",
    "import numpy as np\n",
    "import matplotlib.pyplot as plt\n",
    "import pandas as pd\n",
    "import seaborn as sns\n",
    "%matplotlib inline\n",
    "import ipywidgets as widgets\n",
    "from ipywidgets import interact, interactive, fixed, interact_manual\n",
    "import nbinteract as nbi\n",
    "\n",
    "sns.set()\n",
    "sns.set_context('talk')\n",
    "np.set_printoptions(threshold=20, precision=2, suppress=True)\n",
    "pd.options.display.max_rows = 7\n",
    "pd.options.display.max_columns = 8\n",
    "pd.set_option('precision', 2)\n",
    "# This option stops scientific notation for pandas\n",
    "# pd.set_option('display.float_format', '{:.2f}'.format)"
   ]
  },
  {
   "cell_type": "markdown",
   "metadata": {},
   "source": [
    "<a id='da'></a>\n",
    "# Data Analysis\n",
    "___"
   ]
  },
  {
   "cell_type": "markdown",
   "metadata": {},
   "source": [
    "<a id='est'></a>\n",
    "## 1. Estimation Preliminaries"
   ]
  },
  {
   "cell_type": "markdown",
   "metadata": {},
   "source": [
    "In the previous labs we began to develop ways of inferential thinking. In particular, we learned how to use data to decide between two hypotheses about the world. But often we just want to know how big something is.\n",
    "\n",
    "In this lab, we will develop a way to estimate an unknown parameter. Remember that a parameter is a numerical value associated with a population.\n",
    "\n",
    "To figure out the value of a parameter, we need data. If we have the relevant data for the entire population, we can simply calculate the parameter.\n",
    "\n",
    "But if the population is very large – for example, if it consists of all the households in the United States – then it might be too expensive and time-consuming to gather data from the entire population. In such situations, data scientists rely on sampling at random from the population.\n",
    "\n",
    "This leads to a question of inference:\n",
    "> How to make justifiable conclusions about the unknown parameter, based on the data in the random sample? We will answer this question by using inferential thinking.\n",
    "\n",
    "A statistic based on a random sample can be a reasonable estimate of an unknown parameter in the population. For example, you might want to use the median annual income of sampled households as an estimate of the median annual income of all households in the U.S.\n",
    "\n",
    "But the value of any statistic depends on the sample, and the sample is based on random draws. So every time data scientists come up with an estimate based on a random sample, they are faced with a question:\n",
    "\n",
    "> “How different could this estimate have been, if the sample had come out differently?”\n",
    "\n",
    "In this lab you will learn one way of answering this question. The answer will give you the tools to estimate a numerical parameter and quantify the amount of error in your estimate.\n",
    "\n",
    "We will start with a preliminary about percentiles. The most famous percentile is the median, often used in summaries of income data. Other percentiles will be important in the method of estimation that we are about to develop. So we will start by defining percentiles carefully."
   ]
  },
  {
   "cell_type": "markdown",
   "metadata": {},
   "source": [
    "### Percentiles"
   ]
  },
  {
   "cell_type": "markdown",
   "metadata": {},
   "source": [
    "Numerical data can be sorted in increasing or decreasing order. Thus the values of a numerical data set have a rank order. A percentile is the value at a particular rank.\n",
    "\n",
    "For example, if your score on a test is on the 95th percentile, a common interpretation is that only 5% of the scores were higher than yours. The median is the 50th percentile; it is commonly assumed that 50% the values in a data set are above the median.\n",
    "\n",
    "**The General Definition**\n",
    "\n",
    "Let  `p`  be a number between 0 and 100. The  $p^{th}$  percentile of a collection is the smallest value in the collection that is at least as large as p% of all the values.\n",
    "By this definition, any percentile between 0 and 100 can be computed for any collection of values, and it is always an element of the collection.\n",
    "In practical terms, suppose there are  n elements in the collection. To find the $p^{th}$ percentile:\n",
    "1. Sort the collection in increasing order.\n",
    "2. Find p% of n: \n",
    "    (p/100)×n. Call that  k.\n",
    "3. If  k is an integer, take the  $k^{th}$ element of the sorted collection.\n",
    "4. If  k is not an integer, round it up to the next integer, and take that element of the sorted collection."
   ]
  },
  {
   "cell_type": "code",
   "execution_count": null,
   "metadata": {},
   "outputs": [],
   "source": [
    "# Create a ten integer array using np.array\n",
    "ten_array = ..."
   ]
  },
  {
   "cell_type": "markdown",
   "metadata": {},
   "source": [
    "Go ahead and try out the <a href=\"https://docs.scipy.org/doc/numpy/reference/generated/numpy.percentile.html#numpy.percentile\"> `np.percentile`</a> function to find the element from `ten_array`that represents the 20th percentile."
   ]
  },
  {
   "cell_type": "code",
   "execution_count": null,
   "metadata": {},
   "outputs": [],
   "source": [
    "# Return the value of the 20th percentile\n",
    "twenty_percentile = ...\n",
    "twenty_percentile"
   ]
  },
  {
   "cell_type": "markdown",
   "metadata": {},
   "source": [
    "### Quantiles\n",
    "\n",
    "We can also perform this operation directly in Pandas using a closely related concept of quantiles. Look up <a href=\"https://pandas.pydata.org/pandas-docs/stable/reference/api/pandas.DataFrame.quantile.html\"> `DataFrame.quantile()`</a> function to get a quick overview of this operation.\n",
    "\n",
    "More formally, any set of data, arranged in ascending or descending order, can be divided into various parts, also known as partitions or subsets, regulated by quantiles. Quantile is a generic term for those values that divide the set into partitions of size n, so that each part represents 1/n of the set. Quantiles are not the partition itself, they are the numbers that define the partition. You can think of them as a sort of numeric boundary.\n",
    "\n",
    "There are various kind of quantiles, like the quartiles (watch out for the different letter!) which divide a list of numbers into quarters. They are also known as 4-quantiles. The list of type of quantiles is quite big; you can also have 3-quartiles, 5-quartiles, 6-quartiles up to 1000-quantiles (and above, I guess). It all depends of the size of your data and what you have to do with it.\n",
    "\n",
    "What follows is an example with quartiles, where x is a set of numbers:\n",
    "\n",
    "> x = [5, 61, 9, 112, 13, 203, 26]\n",
    "><br>First quartile, or Q1 = 6\n",
    "><br>Scond quartile, or Q2 = 11\n",
    "><br>Third quartile, or Q3 = 20\n",
    "\n",
    "The second quartile always corresponds to the median of the set x."
   ]
  },
  {
   "cell_type": "code",
   "execution_count": null,
   "metadata": {},
   "outputs": [],
   "source": [
    "# Creating a list of 10 random numbers from 0 to 100.\n",
    "A = [random.randint(0,100) for i in range(10)]\n",
    "# Creating a table of one column A with this values\n",
    "df = pd.DataFrame({ 'A': A})\n",
    "df"
   ]
  },
  {
   "cell_type": "markdown",
   "metadata": {},
   "source": [
    "Using `DataFrame.quantile()` solve the following:"
   ]
  },
  {
   "cell_type": "code",
   "execution_count": null,
   "metadata": {},
   "outputs": [],
   "source": [
    "# Hint: You can call `quantile(i)` to get the i'th quantile, where `i` should be a fractional number.\n",
    "# Find the 10th percentile\n",
    "A_percentile10th = df.A.quantile(...) # Same as df['A'].quantile()"
   ]
  },
  {
   "cell_type": "code",
   "execution_count": null,
   "metadata": {},
   "outputs": [],
   "source": [
    "# Find the 50th Percentile of A or the Median\n",
    "A_percentile50th = ... \n",
    "A_percentile50th"
   ]
  },
  {
   "cell_type": "code",
   "execution_count": null,
   "metadata": {},
   "outputs": [],
   "source": [
    "# Find the 90th percentile\n",
    "A_percentile90th = ... \n",
    "A_percentile90th"
   ]
  },
  {
   "cell_type": "markdown",
   "metadata": {},
   "source": [
    "Verify your answer for the median with another commonly used function <a href=\"http://pandas.pydata.org/pandas-docs/stable/reference/api/pandas.DataFrame.median.html\">`DataFrame.median()`</a> "
   ]
  },
  {
   "cell_type": "code",
   "execution_count": null,
   "metadata": {},
   "outputs": [],
   "source": [
    "A_median = df.A.median() # Same as df['A'].median()\n",
    "A_median"
   ]
  },
  {
   "cell_type": "markdown",
   "metadata": {},
   "source": [
    "<a id='boot'></a>\n",
    "## 2. Bootstrap"
   ]
  },
  {
   "cell_type": "markdown",
   "metadata": {},
   "source": [
    "A data scientist uses the data in a random sample to estimate an unknown parameter. Using the sample to calculate the value of a statistic as an estimate of the population directly could lead to incorrect responses as the the random sample might not be representative of the actual populaion.\n",
    "\n",
    "Fortunately, a brilliant idea called the `bootstrap` can help. Since it is not feasible to generate new samples from the population, the bootstrap generates new random samples by a method called `resampling`: the new samples are drawn at random from the original sample.\n",
    "\n",
    "**The Bootstrap Sampling Method**\n",
    "Data scientists must often estimate an unknown population parameter using a random sample. Although we would ideally like to take numerous samples from the population to generate a sampling distribution, we are often limited to a single sample by money and time.\n",
    "\n",
    "Fortunately, a large, randomly collected sample looks like the original population. The bootstrap procedure uses this fact to simulate new samples by resampling from the original sample.\n",
    "\n",
    "To conduct the bootstrap, we perform the following steps:\n",
    "\n",
    "1. Sample with replacement from the original sample (now the bootstrap population). These samples are called bootstrap samples. We typically take thousands of bootstrap samples (~10,000 is common).\n",
    "1. Calculate the statistic of interest for each bootstrap sample. This statistic is called the bootstrap statistic, and the empirical distribution of these bootstrap statistics is an approximation to the sampling distribution of the bootstrapped statistic.\n",
    "\n",
    "<img src=\"https://cdn-images-1.medium.com/max/2600/1*iH5w0MBdiOlxDOCX6nmqqw.png\" width = 900px/>"
   ]
  },
  {
   "cell_type": "markdown",
   "metadata": {},
   "source": [
    "To see the applicability of the bootstrap, in conjunction with hypothesis testing, we would take the example\n",
    "\n"
   ]
  },
  {
   "cell_type": "markdown",
   "metadata": {
    "colab_type": "text",
    "id": "L2sHqTw23zbC"
   },
   "source": [
    "<a id='da'></a>\n",
    "# Example \n",
    "___\n",
    "\n",
    "\n",
    "## 1. Hypothesis Testing (Optional Review Section)\n",
    "When applying data science techniques to different domains, we are often faced with questions about the world. For example, does drinking coffee cause sleep deprivation? Do autonomous vehicles crash more often then non-autonomous vehicles? Does drug X help treat pneumonia? To help answer these questions, we use hypothesis tests to make informed conclusions based on observed evidence/data.\n",
    "\n",
    "Since data collection is often an imprecise process, we are often unsure whether the patterns in our dataset are due to noise or real phenomena. Hypothesis testing helps us determine whether a pattern could have happened because of random fluctuations in our data collection.\n",
    "\n",
    "To explore hypothesis testing, we start with an example. The table `baby` contains information on baby weights at birth. It records the baby's birth weight in ounces and whether or not the mother smoked during pregnancy for 1174 babies."
   ]
  },
  {
   "cell_type": "code",
   "execution_count": null,
   "metadata": {
    "colab": {
     "autoexec": {
      "startup": false,
      "wait_interval": 0
     },
     "base_uri": "https://localhost:8080/",
     "height": 256,
     "resources": {
      "http://localhost:8080/nbextensions/google.colab/files.js": {
       "data": "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",
       "headers": [
        [
         "content-type",
         "application/javascript"
        ]
       ],
       "ok": true,
       "status": 200,
       "status_text": ""
      }
     }
    },
    "colab_type": "code",
    "executionInfo": {
     "elapsed": 5666,
     "status": "ok",
     "timestamp": 1530931520737,
     "user": {
      "displayName": "SHRISHTI JESWANI",
      "photoUrl": "//lh6.googleusercontent.com/-F3-bqFzSmIM/AAAAAAAAAAI/AAAAAAAAAGE/5BiAcZEFhzA/s50-c-k-no/photo.jpg",
      "userId": "108242849243362307040"
     },
     "user_tz": 420
    },
    "id": "DjN4D5Qc32Zg",
    "outputId": "d1f1994f-2c14-43e3-e8f5-b42504121e3b"
   },
   "outputs": [],
   "source": [
    "baby = pd.read_csv('./baby.csv')\n",
    "baby = baby.loc[:, [\"Birth Weight\", \"Maternal Smoker\"]]\n",
    "baby"
   ]
  },
  {
   "cell_type": "markdown",
   "metadata": {
    "colab_type": "text",
    "id": "W6MEn9BxFn4_"
   },
   "source": [
    "### Design (Optional Review Section)\n",
    "\n",
    "We would like to see whether maternal smoking was associated with birth weight.  To set up our hypothesis test, we can represent the two views of the world using the following null and alternative hypotheses:\n",
    "\n",
    "**Null hypothesis:** In the population, the distribution of birth weights of babies is the same for mothers who don't smoke as for mothers who do. The difference in the sample is due to chance.\n",
    "\n",
    "**Alternative hypothesis:** In the population, the babies of the mothers who smoke have a lower birth weight, on average, than the babies of the non-smokers.\n",
    "\n",
    "Our ultimate goal is to make a decision between these two data generation models. One important point to notice is that we construct our hypotheses about the *parameters* of the data generation model rather than the outcome of the experiment. For example, we should not construct a null hypothesis such as \"The birth weights of smoking mothers will be equal to the birth weights of nonsmoking mothers\", since there is natural variability in the outcome of this process.\n",
    "\n",
    "The null hypothesis emphasizes that if the data look different from what the null hypothesis predicts, the difference is due to nothing but chance. Informally, the alternative hypothesis says that the observed difference is \"real.\"\n",
    "\n",
    "We should take a closer look at the structure of our alternative hypothesis. In our current set up, notice that we would reject the null hypothesis if the birth weights of babies of the mothers who smoke are significantly lower than the birth weights of the babies of the mothers who do not smoke. In other words, the alternative hypothesis encompasses/supports one side of the distribution. We call this a **one-sided** alternative hypothesis. In general, we would only want to use this type of alternative hypothesis if we have a good reason to believe that it is impossible to see babies of the mothers who smoke have a higher birth weight, on average."
   ]
  },
  {
   "cell_type": "markdown",
   "metadata": {},
   "source": [
    "To visualize the data, we've plotted histograms of the baby weights for babies born to maternal smokers and non-smokers."
   ]
  },
  {
   "cell_type": "code",
   "execution_count": null,
   "metadata": {
    "colab": {
     "autoexec": {
      "startup": false,
      "wait_interval": 0
     },
     "base_uri": "https://localhost:8080/",
     "height": 294
    },
    "colab_type": "code",
    "executionInfo": {
     "elapsed": 377,
     "status": "ok",
     "timestamp": 1530931856749,
     "user": {
      "displayName": "SHRISHTI JESWANI",
      "photoUrl": "//lh6.googleusercontent.com/-F3-bqFzSmIM/AAAAAAAAAAI/AAAAAAAAAGE/5BiAcZEFhzA/s50-c-k-no/photo.jpg",
      "userId": "108242849243362307040"
     },
     "user_tz": 420
    },
    "id": "QO9MCQ9-g37K",
    "outputId": "2eca7ed2-6d14-42e0-af34-a307527e72d0"
   },
   "outputs": [],
   "source": [
    "plt.figure(figsize=(9, 6))\n",
    "smokers_hist = (baby.loc[baby[\"Maternal Smoker\"], \"Birth Weight\"]\n",
    "                .hist(normed=True, alpha=0.8, label=\"Maternal Smoker\"))\n",
    "non_smokers_hist = (baby.loc[~baby[\"Maternal Smoker\"], \"Birth Weight\"]\n",
    "                    .hist(normed=True, alpha=0.8, label=\"Not Maternal Smoker\"))\n",
    "smokers_hist.set_xlabel(\"Baby Birth Weights\")\n",
    "smokers_hist.set_ylabel(\"Proportion per Unit\")\n",
    "smokers_hist.set_title(\"Distribution of Birth Weights\")\n",
    "plt.legend()\n",
    "plt.show()"
   ]
  },
  {
   "cell_type": "markdown",
   "metadata": {
    "colab_type": "text",
    "id": "8OYcXb54oFeB"
   },
   "source": [
    "The weights of the babies of the mothers who smoked seem lower on average than the weights of the babies of the non-smokers. Could this difference likely have occurred due to random variation? We can try to answer this question using a hypothesis test.\n",
    "\n",
    "To perform a hypothesis test, we assume a particular model for generating the data; then, we ask ourselves, what is the chance we would see an outcome as extreme as the one that we observed? Intuitively, if the chance of seeing the outcome we observed is very small, the model that we assumed may not be the appropriate model. \n",
    "\n",
    "In particular, we assume that the null hypothesis and its probability model, the **null model**, is true. In other words, we assume that the null hypothesis is true and focus on what the value of the statistic would be under under the null hypothesis. This chance model says that there is no underlying difference; the distributions in the samples are different just due to chance.\n",
    "\n",
    "### Test Statistic (Optional Review Section)\n",
    "\n",
    "In our example, we would assume that maternal smoking has no effect on baby weight (where any observed difference is due to chance). In order to choose between our hypotheses, we will use the difference between the two group means as our **test statistic**.\n",
    "Formally, our test statistic is\n",
    "\n",
    "$$\\mu_{\\text{smoking}} - \\mu_{\\text{non-smoking}}$$\n",
    "\n",
    "so that small values (that is, large negative values) of this statistic will favor the alternative hypothesis. Let's calculate the observed value of test statistic:\n"
   ]
  },
  {
   "cell_type": "code",
   "execution_count": null,
   "metadata": {
    "colab": {
     "autoexec": {
      "startup": false,
      "wait_interval": 0
     },
     "base_uri": "https://localhost:8080/",
     "height": 34
    },
    "colab_type": "code",
    "executionInfo": {
     "elapsed": 448,
     "status": "ok",
     "timestamp": 1530931938001,
     "user": {
      "displayName": "SHRISHTI JESWANI",
      "photoUrl": "//lh6.googleusercontent.com/-F3-bqFzSmIM/AAAAAAAAAAI/AAAAAAAAAGE/5BiAcZEFhzA/s50-c-k-no/photo.jpg",
      "userId": "108242849243362307040"
     },
     "user_tz": 420
    },
    "id": "vj-c-gx-JEhx",
    "outputId": "e2074068-e896-4f15-b960-49a732d6f327"
   },
   "outputs": [],
   "source": [
    "nonsmoker = baby.loc[~baby[\"Maternal Smoker\"], \"Birth Weight\"]\n",
    "smoker = baby.loc[baby[\"Maternal Smoker\"], \"Birth Weight\"]\n",
    "observed_difference = np.mean(smoker) - np.mean(nonsmoker)\n",
    "observed_difference"
   ]
  },
  {
   "cell_type": "markdown",
   "metadata": {
    "colab_type": "text",
    "id": "2IHi2y0MJLBX"
   },
   "source": [
    "If there were really no difference between the two distributions in the underlying population, then whether each mother was a maternal smoker or not should not affect the average birth weight. In other words, the label True or False with respect to maternal smoking should make no difference to the average.\n",
    "\n",
    "Therefore, in order to simulate the test statistic under the null hypothesis, we can shuffle all the birth weights randomly among the mothers. We conduct this random permutation below."
   ]
  },
  {
   "cell_type": "code",
   "execution_count": null,
   "metadata": {},
   "outputs": [],
   "source": [
    "def shuffle(series):\n",
    "    '''\n",
    "    Shuffles a series and resets index to preserve shuffle when adding series\n",
    "    back to DataFrame.\n",
    "    '''\n",
    "    return series.sample(frac=1, replace=False).reset_index(drop=True)"
   ]
  },
  {
   "cell_type": "code",
   "execution_count": null,
   "metadata": {
    "colab": {
     "autoexec": {
      "startup": false,
      "wait_interval": 0
     },
     "base_uri": "https://localhost:8080/",
     "height": 204
    },
    "colab_type": "code",
    "executionInfo": {
     "elapsed": 278,
     "status": "ok",
     "timestamp": 1530931950175,
     "user": {
      "displayName": "SHRISHTI JESWANI",
      "photoUrl": "//lh6.googleusercontent.com/-F3-bqFzSmIM/AAAAAAAAAAI/AAAAAAAAAGE/5BiAcZEFhzA/s50-c-k-no/photo.jpg",
      "userId": "108242849243362307040"
     },
     "user_tz": 420
    },
    "id": "XMm6MU4IoGQp",
    "outputId": "bdbeedc0-94f5-42d4-ec4a-d8d28aadb676"
   },
   "outputs": [],
   "source": [
    "baby[\"Shuffled\"] = shuffle(baby[\"Birth Weight\"])\n",
    "baby"
   ]
  },
  {
   "cell_type": "markdown",
   "metadata": {
    "colab_type": "text",
    "id": "NqD7ZmF0KwKL"
   },
   "source": [
    "### Conducting a Permutation Test (Optional Review Section)\n",
    "\n",
    "Tests based on random permutations of the data are called **permutation tests**. In the cell below, we will simulate our test statistic many times and collect the differences in an array. "
   ]
  },
  {
   "cell_type": "code",
   "execution_count": null,
   "metadata": {
    "colab": {
     "autoexec": {
      "startup": false,
      "wait_interval": 0
     }
    },
    "colab_type": "code",
    "id": "ntGb4QEkLA0D"
   },
   "outputs": [],
   "source": [
    "differences = np.array([])\n",
    "\n",
    "repetitions = 5000\n",
    "for i in np.arange(repetitions):\n",
    "    baby[\"Shuffled\"] = shuffle(baby[\"Birth Weight\"])\n",
    "  \n",
    "    # Find the difference between the means of two randomly assigned groups\n",
    "    nonsmoker = baby.loc[~baby[\"Maternal Smoker\"], \"Shuffled\"]\n",
    "    smoker = baby.loc[baby[\"Maternal Smoker\"], \"Shuffled\"]\n",
    "    simulated_difference = np.mean(smoker) - np.mean(nonsmoker)\n",
    "\n",
    "    differences = np.append(differences, simulated_difference)"
   ]
  },
  {
   "cell_type": "markdown",
   "metadata": {},
   "source": [
    "We plot a histogram of the simulated difference in means below:"
   ]
  },
  {
   "cell_type": "code",
   "execution_count": null,
   "metadata": {
    "colab": {
     "autoexec": {
      "startup": false,
      "wait_interval": 0
     },
     "base_uri": "https://localhost:8080/",
     "height": 311
    },
    "colab_type": "code",
    "executionInfo": {
     "elapsed": 418,
     "status": "ok",
     "timestamp": 1530932216930,
     "user": {
      "displayName": "SHRISHTI JESWANI",
      "photoUrl": "//lh6.googleusercontent.com/-F3-bqFzSmIM/AAAAAAAAAAI/AAAAAAAAAGE/5BiAcZEFhzA/s50-c-k-no/photo.jpg",
      "userId": "108242849243362307040"
     },
     "user_tz": 420
    },
    "id": "w93Fna2VMe0Y",
    "outputId": "3d765f17-8a68-4665-bc72-3be0873a8218"
   },
   "outputs": [],
   "source": [
    "differences_df = pd.DataFrame()\n",
    "differences_df[\"differences\"] = differences\n",
    "diff_hist = differences_df.loc[:, \"differences\"].hist(normed = True)\n",
    "diff_hist.set_xlabel(\"Birth Weight Difference\")\n",
    "diff_hist.set_ylabel(\"Proportion per Unit\")\n",
    "diff_hist.set_title(\"Distribution of Birth Weight Differences\");"
   ]
  },
  {
   "cell_type": "markdown",
   "metadata": {
    "colab_type": "text",
    "id": "HQpHlu91Mgfr"
   },
   "source": [
    "It makes intuitive sense that the distribution of differences is centered around 0 since the two groups should have the same average under the null hypothesis.\n",
    "\n",
    "In order to draw a conclusion for this hypothesis test, we should calculate the p-value. The empirical p-value of the test is the proportion of simulated differences that were equal to or less than the observed difference. "
   ]
  },
  {
   "cell_type": "code",
   "execution_count": null,
   "metadata": {
    "colab": {
     "autoexec": {
      "startup": false,
      "wait_interval": 0
     },
     "base_uri": "https://localhost:8080/",
     "height": 34
    },
    "colab_type": "code",
    "executionInfo": {
     "elapsed": 363,
     "status": "ok",
     "timestamp": 1529212484422,
     "user": {
      "displayName": "SHRISHTI JESWANI",
      "photoUrl": "//lh6.googleusercontent.com/-F3-bqFzSmIM/AAAAAAAAAAI/AAAAAAAAAGE/5BiAcZEFhzA/s50-c-k-no/photo.jpg",
      "userId": "108242849243362307040"
     },
     "user_tz": 420
    },
    "id": "Xeom2huvKI-d",
    "outputId": "96eb4525-6f45-431b-a964-d5cc81d7beeb"
   },
   "outputs": [],
   "source": [
    "p_value = np.count_nonzero(differences <= observed_difference) / repetitions\n",
    "p_value"
   ]
  },
  {
   "cell_type": "markdown",
   "metadata": {
    "colab_type": "text",
    "id": "v5UT8SERKxL-"
   },
   "source": [
    "At the beginning of the hypothesis test we typically choose a p-value **threshold of significance** (commonly denoted as alpha). If our p-value is below our significance threshold, then we reject the null hypothesis. The most commonly chosen thresholds are 0.01 and 0.05, where 0.01 is considered to be more \"strict\" since we would need more evidence in favor of the alternative hypothesis to reject the null hypothesis.\n",
    "\n",
    "In either of these two cases, we reject the null hypothesis since the p-value is less than the significance threshold. "
   ]
  },
  {
   "cell_type": "markdown",
   "metadata": {
    "colab_type": "text",
    "id": "_JeaVxxsoak0"
   },
   "source": [
    "## 2. Bootstrap Confidence Intervals"
   ]
  },
  {
   "cell_type": "markdown",
   "metadata": {
    "colab_type": "text",
    "id": "S7xKWoIBMJ9V"
   },
   "source": [
    "We may use the bootstrap sampling distribution to create a confidence interval which we use to estimate the value of the population parameter. \n",
    "\n",
    "Since the birth weight data provides a large, random sample, we may act as if the data on mothers who did not smoke are representative of the population of nonsmoking mothers. Similarly, we act as if the data for smoking mothers are representative of the population of smoking mothers.\n",
    "\n",
    "Therefore, we treat our original sample as the bootstrap population to perform the bootstrap procedure:\n",
    "\n",
    "1. Draw a sample with replacement from the nonsmoking mothers and calculate the mean birth weight for these mothers. We also draw a sample with replacement from the smoking mothers and calculate the mean birth weight.\n",
    "1. Calculate the difference in means.\n",
    "1. Repeat the above process 10000 times, obtaining 10000 mean differences.\n",
    "\n",
    "This procedure gives us a empirical sampling distribution of differences in mean baby weights. But before we do that, go ahead and try to define the following functions. Hints for their functionalities are provided in the comments below."
   ]
  },
  {
   "cell_type": "code",
   "execution_count": null,
   "metadata": {
    "colab": {
     "autoexec": {
      "startup": false,
      "wait_interval": 0
     }
    },
    "colab_type": "code",
    "id": "NYMJ2wmQocwX"
   },
   "outputs": [],
   "source": [
    "def resample(sample):\n",
    "    # Hint: Using np.random.choice() to randomly choose a resample from your provided sample\n",
    "    return ...\n",
    "\n",
    "def bootstrap(sample, stat, replicates):\n",
    "    # Hint 1: stat is the statistic you aim to capture from the data. Here it would be np.mean as you wish to find the mean\n",
    "    # Hint 2: Use a list comprehension or a loop to produce an array of outputs of your statistic for all resamples\n",
    "    # Hint 3: Use the following commented pseudocode block (logic) to help you answer the question\n",
    "    # for i in range(replicates):\n",
    "    #     stat_lst.append(stat(resample(sample)))\n",
    "    \n",
    "    statistic_array = np.array(...)\n",
    "    return statistic_array"
   ]
  },
  {
   "cell_type": "markdown",
   "metadata": {},
   "source": [
    "Using the functions you just created, apply the bootstrap to your data"
   ]
  },
  {
   "cell_type": "code",
   "execution_count": null,
   "metadata": {
    "colab": {
     "autoexec": {
      "startup": false,
      "wait_interval": 0
     },
     "base_uri": "https://localhost:8080/",
     "height": 311
    },
    "colab_type": "code",
    "executionInfo": {
     "elapsed": 41366,
     "status": "ok",
     "timestamp": 1530932636957,
     "user": {
      "displayName": "SHRISHTI JESWANI",
      "photoUrl": "//lh6.googleusercontent.com/-F3-bqFzSmIM/AAAAAAAAAAI/AAAAAAAAAGE/5BiAcZEFhzA/s50-c-k-no/photo.jpg",
      "userId": "108242849243362307040"
     },
     "user_tz": 420
    },
    "id": "1yDXDkdzgM17",
    "outputId": "f8064df5-dc5d-4a9f-db66-16e3eceede56"
   },
   "outputs": [],
   "source": [
    "nonsmoker = baby.loc[~baby[\"Maternal Smoker\"], \"Birth Weight\"]\n",
    "smoker = baby.loc[baby[\"Maternal Smoker\"], \"Birth Weight\"]\n",
    "\n",
    "nonsmoker_means = bootstrap(nonsmoker, np.mean, 10000)\n",
    "smoker_means = bootstrap(smoker, np.mean, 10000)\n",
    "\n",
    "mean_differences = smoker_means - nonsmoker_means"
   ]
  },
  {
   "cell_type": "markdown",
   "metadata": {},
   "source": [
    "We plot the empirical distribution of the difference in means below:"
   ]
  },
  {
   "cell_type": "code",
   "execution_count": null,
   "metadata": {
    "colab": {
     "autoexec": {
      "startup": false,
      "wait_interval": 0
     },
     "base_uri": "https://localhost:8080/",
     "height": 311
    },
    "colab_type": "code",
    "executionInfo": {
     "elapsed": 41366,
     "status": "ok",
     "timestamp": 1530932636957,
     "user": {
      "displayName": "SHRISHTI JESWANI",
      "photoUrl": "//lh6.googleusercontent.com/-F3-bqFzSmIM/AAAAAAAAAAI/AAAAAAAAAGE/5BiAcZEFhzA/s50-c-k-no/photo.jpg",
      "userId": "108242849243362307040"
     },
     "user_tz": 420
    },
    "id": "1yDXDkdzgM17",
    "outputId": "f8064df5-dc5d-4a9f-db66-16e3eceede56"
   },
   "outputs": [],
   "source": [
    "mean_differences_df = pd.DataFrame()\n",
    "mean_differences_df[\"differences\"] = np.array(mean_differences)\n",
    "mean_diff = mean_differences_df.loc[:, \"differences\"].hist(normed=True)\n",
    "mean_diff.set_xlabel(\"Birth Weight Difference\")\n",
    "mean_diff.set_ylabel(\"Proportion per Unit\")\n",
    "mean_diff.set_title(\"Distribution of Birth Weight Differences\");"
   ]
  },
  {
   "cell_type": "markdown",
   "metadata": {},
   "source": [
    "Finally, to construct a 95% confidence interval we take the 2.5th and 97.5th percentiles of the bootstrap statistics:"
   ]
  },
  {
   "cell_type": "code",
   "execution_count": null,
   "metadata": {},
   "outputs": [],
   "source": [
    "(np.percentile(mean_differences, 2.5), \n",
    " np.percentile(mean_differences, 97.5))"
   ]
  },
  {
   "cell_type": "markdown",
   "metadata": {},
   "source": [
    "This confidence interval allows us to state with 95% confidence that the population mean difference in birth weights is between -11.37 and -7.18 ounces."
   ]
  },
  {
   "cell_type": "markdown",
   "metadata": {},
   "source": [
    "## 3. Summary\n",
    "\n",
    "In this section, we review hypothesis testing using the permutation test and learn about confidence intervals using the bootstrap. To conduct a hypothesis test, we must state our null and alternative hypotheses, select an appropriate test statistic, and perform the testing procedure to calculate a p-value. To create a confidence interval, we select an appropriate test statistic, bootstrap the original sample to generate an empirical distribution of the test statistic, and select the quantiles corresponding to our desired confidence level."
   ]
  },
  {
   "cell_type": "code",
   "execution_count": null,
   "metadata": {},
   "outputs": [],
   "source": []
  }
 ],
 "metadata": {
  "kernelspec": {
   "display_name": "Python 3",
   "language": "python",
   "name": "python3"
  },
  "language_info": {
   "codemirror_mode": {
    "name": "ipython",
    "version": 3
   },
   "file_extension": ".py",
   "mimetype": "text/x-python",
   "name": "python",
   "nbconvert_exporter": "python",
   "pygments_lexer": "ipython3",
   "version": "3.6.7"
  }
 },
 "nbformat": 4,
 "nbformat_minor": 2
}
