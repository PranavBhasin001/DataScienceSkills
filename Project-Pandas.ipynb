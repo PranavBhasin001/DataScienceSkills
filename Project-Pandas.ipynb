{
 "cells": [
  {
   "cell_type": "markdown",
   "metadata": {},
   "source": [
    "## Project Part 1: Introduction to Pandas "
   ]
  },
  {
   "cell_type": "markdown",
   "metadata": {},
   "source": [
    "*Name*: Enter here"
   ]
  },
  {
   "cell_type": "markdown",
   "metadata": {},
   "source": [
    "In this assignment, we will start the semester-long project where you will clean, analyze, and visualize a dataset of your choosing. Before we get started with any of analysis and computation, it's a good idea to get acquainted with the data you're working with. Here, we will use the Python tools you've learned so far to do exactly that."
   ]
  },
  {
   "cell_type": "code",
   "execution_count": 1,
   "metadata": {},
   "outputs": [],
   "source": [
    "# Run this cell\n",
    "import pandas as pd\n",
    "import numpy as np "
   ]
  },
  {
   "cell_type": "markdown",
   "metadata": {},
   "source": [
    "The following are some keyboard shortcuts you might find useful in Jupyter.\n",
    "\n",
    "\n",
    "- `shift` + `enter`: run current cell (move cursor to next cell)\n",
    "- `ctrl` + `enter`: run current cell\n",
    "- `esc` + `h`: access keyboard shortcuts\n",
    "- `esc` + `p`: access commands\n",
    "- `esc` + `m`: change cell to 'Markdown'\n",
    "- `esc` + `y`: change cell to 'Code'\n",
    "- `esc` + `a`: insert code cell above\n",
    "- `esc` + `b`: insert code cell below"
   ]
  },
  {
   "cell_type": "markdown",
   "metadata": {},
   "source": [
    "### Loading your Dataset"
   ]
  },
  {
   "cell_type": "markdown",
   "metadata": {},
   "source": [
    "By now, you should have your dataset from the internet. It will likely be in the form of a csv, tsv, or JSON file type. If it isn't one of these, contact a TA. The next cells will show you how to bring your dataset into the notebook as a Pandas DataFrame. **Only fill in the cell that corresponds to your file's type.**"
   ]
  },
  {
   "cell_type": "code",
   "execution_count": 22,
   "metadata": {
    "scrolled": true
   },
   "outputs": [],
   "source": [
    "# Fill in the next line if your file is a CSV\n",
    "df = pd.read_csv('your_file_name_here')\n",
    "df"
   ]
  },
  {
   "cell_type": "code",
   "execution_count": null,
   "metadata": {},
   "outputs": [],
   "source": [
    "#Fill in the next line if your file is a TSV\n",
    "df = pd.read_tsv('your_file_name_here')\n",
    "df"
   ]
  },
  {
   "cell_type": "code",
   "execution_count": null,
   "metadata": {},
   "outputs": [],
   "source": [
    "#Fill in the next line if your file is a JSON\n",
    "df = pd.read_json('your_file_name_here')\n",
    "df"
   ]
  },
  {
   "cell_type": "code",
   "execution_count": 11,
   "metadata": {},
   "outputs": [],
   "source": [
    "# How many rows are in your dataset?\n"
   ]
  },
  {
   "cell_type": "code",
   "execution_count": 12,
   "metadata": {},
   "outputs": [],
   "source": [
    "# How many columns are in your dataset?\n"
   ]
  },
  {
   "cell_type": "markdown",
   "metadata": {},
   "source": [
    "### Let's Look at Some Values"
   ]
  },
  {
   "cell_type": "markdown",
   "metadata": {},
   "source": [
    "Let's use some pandas methods to start inspecting our dataset. Let's just look at the top and bottom 5 rows of our dataset."
   ]
  },
  {
   "cell_type": "code",
   "execution_count": 8,
   "metadata": {},
   "outputs": [],
   "source": [
    "# Return the top 5 rows \n",
    "\n"
   ]
  },
  {
   "cell_type": "code",
   "execution_count": 7,
   "metadata": {},
   "outputs": [],
   "source": [
    "# Return the bottom 5 rows\n",
    "\n"
   ]
  },
  {
   "cell_type": "markdown",
   "metadata": {},
   "source": [
    "We also want to know what all our columns are called, since we will be using them throughout this entire project."
   ]
  },
  {
   "cell_type": "code",
   "execution_count": 6,
   "metadata": {},
   "outputs": [],
   "source": [
    "# Return a list of all the column names in your dataframe\n",
    "columns = ...\n",
    "columns"
   ]
  },
  {
   "cell_type": "markdown",
   "metadata": {},
   "source": [
    "\n",
    "\n"
   ]
  },
  {
   "cell_type": "markdown",
   "metadata": {},
   "source": [
    "Sometimes dataset columns are labeled poorly. Are there any columns you'd like to rename? Do that below.\n"
   ]
  },
  {
   "cell_type": "code",
   "execution_count": null,
   "metadata": {},
   "outputs": [],
   "source": [
    "# Optional: rename columns. Just run this cell if there are no columns to rename.\n",
    "df = ..."
   ]
  },
  {
   "cell_type": "markdown",
   "metadata": {},
   "source": [
    "Are there any irrelevant or useless columns in your dataset? Drop them if needed."
   ]
  },
  {
   "cell_type": "code",
   "execution_count": 17,
   "metadata": {},
   "outputs": [],
   "source": [
    "# Optional: drop columns. Just run this cell if there are no columns to drop.\n",
    "# CAUTION: Once dropped, a column can NOT be retrieved; always think carefully before deleting data\n",
    "df = ..."
   ]
  },
  {
   "cell_type": "markdown",
   "metadata": {},
   "source": [
    "It's also a good idea to find some minimum and maximum values within your data. You can do this however you'd like, but we recommend sorting your dataframe and returning the top 10 values."
   ]
  },
  {
   "cell_type": "code",
   "execution_count": null,
   "metadata": {},
   "outputs": [],
   "source": [
    "# Return a DataFrame consisting of 10 rows, with the highest value from a given column being the top row.\n",
    "# In other words, sort your Dataframe by the highest values in a given column. Return the top 10 rows\n",
    "\n",
    "sorted_max = ...\n",
    "sorted_max"
   ]
  },
  {
   "cell_type": "code",
   "execution_count": null,
   "metadata": {},
   "outputs": [],
   "source": [
    "# Return a DataFrame consisting of 10 rows, with the highest value from a given column being the top row.\n",
    "# In other words, sort your Dataframe by the lowest values in a given column. Return the top 10 rows\n",
    "\n",
    "sorted_min = ...\n",
    "sorted_min"
   ]
  },
  {
   "cell_type": "markdown",
   "metadata": {},
   "source": [
    "We can count the number of occurences of each value of a Series using the value_counts() method. Try it on a few columns below. Remember, you can only call this on a Series."
   ]
  },
  {
   "cell_type": "code",
   "execution_count": 13,
   "metadata": {},
   "outputs": [],
   "source": [
    "# Try using value_counts on a few columns\n"
   ]
  },
  {
   "cell_type": "code",
   "execution_count": 14,
   "metadata": {},
   "outputs": [],
   "source": [
    "# Try using value_counts on a few columns\n"
   ]
  },
  {
   "cell_type": "markdown",
   "metadata": {},
   "source": [
    "**What do these series tell you about your data? Are there any significant values? Values that occur often? Explain what they mean below.**"
   ]
  },
  {
   "cell_type": "markdown",
   "metadata": {},
   "source": [
    "*TYPE ANSWER HERE*"
   ]
  },
  {
   "cell_type": "markdown",
   "metadata": {},
   "source": [
    "### NaN Values"
   ]
  },
  {
   "cell_type": "markdown",
   "metadata": {},
   "source": [
    "With large datasets, it is incredibly common to have missing, or NaN values. You can choose to remove rows with missing data or impute a value of your choosing. Again, think carefully before deleting data"
   ]
  },
  {
   "cell_type": "code",
   "execution_count": 23,
   "metadata": {},
   "outputs": [],
   "source": [
    "df.fillna(...), df.dropna(...)"
   ]
  },
  {
   "cell_type": "markdown",
   "metadata": {},
   "source": [
    "### Indexing Practice"
   ]
  },
  {
   "cell_type": "markdown",
   "metadata": {},
   "source": [
    "Try your hand at locating some rows and columns using loc and iloc, as mentioned in lecture."
   ]
  },
  {
   "cell_type": "code",
   "execution_count": null,
   "metadata": {},
   "outputs": [],
   "source": [
    "# Using the loc function, return the data frame into a smaller data frame which includes the values \n",
    "# for the first 3 rows in the first column.\n",
    "\n",
    "df3 = df = df.loc(...)\n",
    "\n",
    "#Next, cut down the data frame into a SERIES which includes the value for the first row in the same column.\n",
    "\n",
    "s = df.loc(...)\n",
    "\n",
    "df3, s"
   ]
  },
  {
   "cell_type": "code",
   "execution_count": null,
   "metadata": {},
   "outputs": [],
   "source": [
    "# Using the iloc function return a smaller data frame which includes the values for the first 3 rows in any two columns. \n",
    "# Use slicing for your arguments to the loc function, not lists.\n",
    "\n",
    "df.iloc(...)"
   ]
  },
  {
   "cell_type": "markdown",
   "metadata": {},
   "source": [
    "### Groupby Practice"
   ]
  },
  {
   "cell_type": "markdown",
   "metadata": {},
   "source": [
    "Groupby is often used to conslidate values within a specific column to aid in identifying new relationships between variables. In this section, you will use groupby to learn new relationships within your dataset.\n",
    "\n",
    "*Note: Groupby dataframes can be aggregated by mean, sum, or pass in a function of your own.*"
   ]
  },
  {
   "cell_type": "code",
   "execution_count": null,
   "metadata": {},
   "outputs": [],
   "source": [
    "#Use the groupby function to return a dataframe grouped by a key column \n",
    "#Note: Ensure doing so will draw meaningful insights\n",
    "\n",
    "grouped_df = ...\n",
    "\n",
    "grouped_df"
   ]
  },
  {
   "cell_type": "markdown",
   "metadata": {},
   "source": [
    "**Why did you choose to group by this column? How do you believe this group by will help you with further analysis?**"
   ]
  },
  {
   "cell_type": "markdown",
   "metadata": {},
   "source": [
    "*TYPE ANSWER HERE*"
   ]
  },
  {
   "cell_type": "code",
   "execution_count": 1,
   "metadata": {},
   "outputs": [
    {
     "data": {
      "text/plain": [
       "Ellipsis"
      ]
     },
     "execution_count": 1,
     "metadata": {},
     "output_type": "execute_result"
    }
   ],
   "source": [
    "#Optional: Groupby other columns in your dataframe\n",
    "\n",
    "grouped2_df = ...\n",
    "\n",
    "grouped2_df"
   ]
  },
  {
   "cell_type": "code",
   "execution_count": null,
   "metadata": {},
   "outputs": [],
   "source": [
    "#Optional: Groupby other columns in your dataframe\n",
    "\n",
    "grouped3_df = ...\n",
    "\n",
    "grouped3_df"
   ]
  },
  {
   "cell_type": "markdown",
   "metadata": {},
   "source": [
    "### Pivot Practice"
   ]
  },
  {
   "cell_type": "markdown",
   "metadata": {},
   "source": [
    "Pivot tables are used to summarize, sort, and group data relevant to two different variables. Use this section to zone in on a relationship between two variables in your dataset. \n",
    "\n",
    "While groupby is often used to summarize values within a specific column(s), pivot is advantageous in summarizing your dataset in relation to two specific variables. \n",
    "\n",
    "*Note: Pivot tables can be aggregated by mean, sum, or pass in a function of your own.*"
   ]
  },
  {
   "cell_type": "code",
   "execution_count": null,
   "metadata": {},
   "outputs": [],
   "source": [
    "#Choose two variables to pivot and create a new dataframe using the\n",
    "#pivot function. \n",
    "\n",
    "pivot_df = ...\n",
    "\n",
    "pivot_df"
   ]
  },
  {
   "cell_type": "markdown",
   "metadata": {},
   "source": [
    "**Why did you choose these two variables to create a pivot dataframe? What new insights have you drawn about the relationship between the two by using pivot?**"
   ]
  },
  {
   "cell_type": "markdown",
   "metadata": {},
   "source": [
    "*TYPE ANSWER HERE*"
   ]
  },
  {
   "cell_type": "code",
   "execution_count": null,
   "metadata": {},
   "outputs": [],
   "source": [
    "#Optional: Pivot other columns in your dataframe\n",
    "\n",
    "pivot2_df = ...\n",
    "\n",
    "pivot2_df"
   ]
  },
  {
   "cell_type": "code",
   "execution_count": 3,
   "metadata": {},
   "outputs": [
    {
     "data": {
      "text/plain": [
       "Ellipsis"
      ]
     },
     "execution_count": 3,
     "metadata": {},
     "output_type": "execute_result"
    }
   ],
   "source": [
    "#Optional: Pivot other columns dataframe\n",
    "\n",
    "pivot3_df = ...\n",
    "\n",
    "pivot3_df"
   ]
  },
  {
   "cell_type": "markdown",
   "metadata": {},
   "source": [
    "That's it for this assignment! Congrats on completing the first part of the project!"
   ]
  },
  {
   "cell_type": "markdown",
   "metadata": {},
   "source": [
    "*Feel free to use the cells below to apply more functions to your dataframe to learn more about your dataset!*"
   ]
  },
  {
   "cell_type": "code",
   "execution_count": null,
   "metadata": {},
   "outputs": [],
   "source": []
  },
  {
   "cell_type": "code",
   "execution_count": null,
   "metadata": {},
   "outputs": [],
   "source": []
  },
  {
   "cell_type": "code",
   "execution_count": null,
   "metadata": {},
   "outputs": [],
   "source": []
  },
  {
   "cell_type": "code",
   "execution_count": null,
   "metadata": {},
   "outputs": [],
   "source": []
  },
  {
   "cell_type": "code",
   "execution_count": null,
   "metadata": {},
   "outputs": [],
   "source": []
  }
 ],
 "metadata": {
  "kernelspec": {
   "display_name": "Python 3",
   "language": "python",
   "name": "python3"
  },
  "language_info": {
   "codemirror_mode": {
    "name": "ipython",
    "version": 3
   },
   "file_extension": ".py",
   "mimetype": "text/x-python",
   "name": "python",
   "nbconvert_exporter": "python",
   "pygments_lexer": "ipython3",
   "version": "3.8.5"
  }
 },
 "nbformat": 4,
 "nbformat_minor": 2
}
