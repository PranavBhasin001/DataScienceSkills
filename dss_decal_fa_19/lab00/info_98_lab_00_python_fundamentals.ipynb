{
 "cells": [
  {
   "cell_type": "markdown",
   "metadata": {},
   "source": [
    "Python Basics\n",
    "### INFO 98: Data Science For Everyone, Fall 2019"
   ]
  },
  {
   "cell_type": "markdown",
   "metadata": {},
   "source": [
    "# Table of Contents\n",
    "* [Install Test](#install-test)\n",
    "* [Overview](#overview)\n",
    "* [Python](#python)\n",
    "    * [Control Flow](#ctrl)\n",
    "    * [List Comprehension](#lst)"
   ]
  },
  {
   "cell_type": "code",
   "execution_count": 2,
   "metadata": {},
   "outputs": [
    {
     "name": "stdout",
     "output_type": "stream",
     "text": [
      "Congratulations! Your Install is great!\n"
     ]
    }
   ],
   "source": [
    "from __future__ import division\n",
    "import numpy as np\n",
    "import struct\n",
    "import time\n",
    "import warnings\n",
    "import math\n",
    "from numpy.linalg import inv\n",
    "from  pylab import *\n",
    "import struct\n",
    "from scipy import random\n",
    "import time\n",
    "import scipy\n",
    "from scipy import linalg\n",
    "import random\n",
    "import math\n",
    "from IPython import display\n"
   ]
  },
  {
   "cell_type": "markdown",
   "metadata": {},
   "source": [
    "------\n",
    "\n",
    "<a id='overview'></a>\n",
    "# Overview\n",
    "\n",
    "This mini-bootcamp serves as an introduction to IPython and a couple important packages we will be using throughout the semester. The homework aims to teach you proper usage of certain commands and can serve as a reference doc in the future. Even if you are a python wizard already, we recommend that you at least look through the lab to get re-acquainted with the functions we will be using a lot. This also serves as a good documented revision of everything we covered last lecture "
   ]
  },
  {
   "cell_type": "markdown",
   "metadata": {},
   "source": [
    "<a id='python'></a>\n",
    "# Python\n",
    "\n",
    "Both the labs and the homeworks in this course will require you to write some **Python** code. If you're new to programming, have no fear, as the assignments don't require more than just the fundamentals"
   ]
  },
  {
   "cell_type": "markdown",
   "metadata": {},
   "source": [
    "<a id='ctrl'></a>\n",
    "## Control Flow in Python\n",
    "\n",
    "Programming languages usually contain statements that can be used to direct or \"control the flow\" of execution. This includes (but is not limited to) conditional statements such as `if`, `else`, and `elif`, and loop-control statements such as `while`, `for`, `break`, and `continue`. "
   ]
  },
  {
   "cell_type": "markdown",
   "metadata": {},
   "source": [
    "### Conditional Statements: (if, else, elif)"
   ]
  },
  {
   "cell_type": "code",
   "execution_count": null,
   "metadata": {},
   "outputs": [],
   "source": [
    "# Example 1: Simple if/else\n",
    "\n",
    "x = 16\n",
    "\n",
    "if x > 20: # Asking the question, \"Is x greater than 20?\"\n",
    "    print('if condition is True!')\n",
    "else:\n",
    "    print('if condition is False!')"
   ]
  },
  {
   "cell_type": "code",
   "execution_count": null,
   "metadata": {
    "collapsed": true
   },
   "outputs": [],
   "source": [
    "# Example 2: Introducing elif\n",
    "\n",
    "x = 16\n",
    "\n",
    "if x > 20: # Asking the question, \"Is x greater than 20?\"\n",
    "    print('first if condition is True!')\n",
    "elif x > 10 and x < 20: # Asking the question, \"Is x greater than 10 AND less than 20?\"\n",
    "    print('first if condition is False and second if condition is True!')\n",
    "else:\n",
    "    print('Neither if condition was True!')"
   ]
  },
  {
   "cell_type": "markdown",
   "metadata": {},
   "source": [
    "### Loop-Control Statements: (while, for)"
   ]
  },
  {
   "cell_type": "code",
   "execution_count": null,
   "metadata": {
    "collapsed": true
   },
   "outputs": [],
   "source": [
    "# Example 3: while\n",
    "\n",
    "i = 0\n",
    "while i < 5: # Check if i < 5 every iteration. Stop looping if the condition is false, i.e. if i >= 5.\n",
    "    print('i:',i)\n",
    "    i += 1 # increment i by 1"
   ]
  },
  {
   "cell_type": "markdown",
   "metadata": {},
   "source": [
    "Unlike while loops, which can theoretically run \"forever\" given the right condition, for loops serve a different purpose -- iterating a fixed number of times. For loops in Python expect an iterable object -- something similar to a list -- to control the number of iterations. The example below is \"equivalent\" to the while loop in the previous example."
   ]
  },
  {
   "cell_type": "code",
   "execution_count": null,
   "metadata": {
    "collapsed": true
   },
   "outputs": [],
   "source": [
    "# Example 4: for (pun intended)\n",
    "\n",
    "for i in range(0,5): # read about range() here: http://pythoncentral.io/pythons-range-function-explained/ . \n",
    "    print('i:',i)\n",
    "\n",
    "# Notice no i += 1 statement!"
   ]
  },
  {
   "cell_type": "code",
   "execution_count": null,
   "metadata": {
    "collapsed": true
   },
   "outputs": [],
   "source": [
    "# Example 5: Iterating through lists\n",
    "\n",
    "char_list = [1, 6, 'a']\n",
    "word = ''\n",
    "\n",
    "for element in char_list:\n",
    "    word += str(element)\n",
    "\n",
    "print('word:',word)"
   ]
  },
  {
   "cell_type": "markdown",
   "metadata": {},
   "source": [
    "All of the loop examples so far have terminated with some sort of stopping condition (i < 5, i in range(0,5), element in char_list). But what if we wanted to exit a loop early? Or, what if we wanted to immediately go to the next loop iteration? These two changes can be applied using the **break** and **continue** statements, respectively."
   ]
  },
  {
   "cell_type": "code",
   "execution_count": null,
   "metadata": {
    "collapsed": true
   },
   "outputs": [],
   "source": [
    "# Example 6: The break statement\n",
    "\n",
    "candies = ['Skittles', 'Snickers', '3 Musketeers', 'Twizzlers', 'Kit-Kat', 'Twix', 'Almond Joy']\n",
    "\n",
    "print('Loop without break statement.')\n",
    "for candy in candies:\n",
    "    print(candy)\n",
    "\n",
    "print('\\nLoop with break statement.')\n",
    "for candy in candies:\n",
    "    print(candy)\n",
    "    if candy == 'Kit-Kat':\n",
    "        break"
   ]
  },
  {
   "cell_type": "code",
   "execution_count": null,
   "metadata": {
    "collapsed": true
   },
   "outputs": [],
   "source": [
    "# Example 7: The continue statement\n",
    "\n",
    "candies = ['Skittles', 'Snickers', '3 Musketeers', 'Twizzlers', 'Kit-Kat', 'Twix', 'Almond Joy']\n",
    "\n",
    "print('Same Loop as above but with continue instead of break statement.')\n",
    "for candy in candies:\n",
    "    print(candy)\n",
    "    if candy == 'Kit-Kat':\n",
    "        continue\n",
    "\n",
    "print('\\nLoop that skips over every-other candy.')\n",
    "for i in range(len(candies)):\n",
    "    if i % 2 == 1: # if i is odd. The \"%\" symbol is the modulo operator: https://en.wikipedia.org/wiki/Modulo_operation\n",
    "        continue\n",
    "    print(candies[i])"
   ]
  },
  {
   "cell_type": "markdown",
   "metadata": {},
   "source": [
    "**Notice how the continue statement enabled us to skip every-other candy.**"
   ]
  },
  {
   "cell_type": "markdown",
   "metadata": {},
   "source": [
    "<a id='lst'></a>\n",
    "## List Comprehension\n",
    "\n",
    "There are multiple ways of creating lists in Python. If you recall from the first discussion, a list is a mutable array of data. They can be created using square brackets [ ]. Elements in the list are separated by commas. Elements can be of any type (int, string, float, etc.).\n",
    "\n",
    "Important Python List functions: \n",
    "\n",
    "- `'+'` joins lists and creates a *new* list. \n",
    "\n",
    "- `len(x)` to get the length of list `x`\n",
    "\n",
    "\n",
    "Next, we will explore the idea of list comprehension, which is a compact way of creating a list from a for-loop in a single line. Please keep in mind that list comprehension is just a style suggestion; any list comprehension can be expanded to a fully fleshed out control-loop block. However, the advantage of list comprehensions is their compact yet expressive syntax.\n",
    "\n",
    "\n",
    "**For the example below, our goal is to create a list of the squares of each even integer in the range from 0 to 10 (inclusive).**"
   ]
  },
  {
   "cell_type": "code",
   "execution_count": null,
   "metadata": {
    "collapsed": true
   },
   "outputs": [],
   "source": [
    "# Example 8a: for-loop list construction\n",
    "\n",
    "# Expected output: [0*0, 2*2, 4*4, 6*6, 8*8, 10*10], which equals: [0, 4, 16, 36, 64, 100]\n",
    "\n",
    "lst = []\n",
    "for i in range(11): # iterate over numbers 0 through 10 (inclusive)\n",
    "    if i % 2 == 0: # see example 7 for explanation of \"%\" symbol.\n",
    "        lst += [i**2] # '**' is Python syntax for rasing the power. Alternatively: lst.append(i**2)\n",
    "\n",
    "print(lst)"
   ]
  },
  {
   "cell_type": "code",
   "execution_count": null,
   "metadata": {
    "collapsed": true
   },
   "outputs": [],
   "source": [
    "# Example 8b: List Comprehension\n",
    "\n",
    "lst = [i**2 for i in range(11) if i % 2 == 0] # one-liner magic\n",
    "print(lst)"
   ]
  },
  {
   "cell_type": "markdown",
   "metadata": {},
   "source": [
    "The syntax for a list comprehension is as follows:<br>\n",
    "**list = ** **<span style=\"color:green\">[</span>**<span style=\"color:red\">function(</span>**ITEM**<span style=\"color:red\">)</span> **<span style=\"color:green\">for</span>** **ITEM** **<span style=\"color:green\">in</span>** <span style=\"color:orange\">ITERABLE_OBJECT</span> **<span style=\"color:green\">if</span>** <span style=\"color:blue\">condition(</span>**ITEM**<span style=\"color:blue\">)</span>**<span style=\"color:green\">]</span>**\n",
    "\n",
    "In example 8b above:<br>\n",
    "**ITEM** = i<br>\n",
    "<span style=\"color:orange\">ITERABLE_OBJECT</span> = range(11)<br>\n",
    "<span style=\"color:red\">function()</span> = raise **ITEM** to the second power<br>\n",
    "<span style=\"color:blue\">condition()</span> = is **ITEM** even?<br>\n",
    "\n",
    "A couple notes: list comprehensions DO NOT require a condition, list comprehensions can have nested for-loops."
   ]
  }
 ],
 "metadata": {
  "anaconda-cloud": {},
  "kernelspec": {
   "display_name": "Python 3",
   "language": "python",
   "name": "python3"
  },
  "language_info": {
   "codemirror_mode": {
    "name": "ipython",
    "version": 3
   },
   "file_extension": ".py",
   "mimetype": "text/x-python",
   "name": "python",
   "nbconvert_exporter": "python",
   "pygments_lexer": "ipython3",
   "version": "3.6.8"
  }
 },
 "nbformat": 4,
 "nbformat_minor": 1
}
