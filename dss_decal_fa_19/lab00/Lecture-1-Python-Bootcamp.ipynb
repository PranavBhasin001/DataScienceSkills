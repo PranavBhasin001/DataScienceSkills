{
 "cells": [
  {
   "cell_type": "markdown",
   "metadata": {},
   "source": [
    "\n",
    "# Python Bootcamp\n",
    "Info 98: Spring 2020"
   ]
  },
  {
   "cell_type": "code",
   "execution_count": 10,
   "metadata": {},
   "outputs": [],
   "source": [
    "import numpy as np\n",
    "import math"
   ]
  },
  {
   "cell_type": "markdown",
   "metadata": {},
   "source": [
    "# Overview"
   ]
  },
  {
   "cell_type": "markdown",
   "metadata": {},
   "source": [
    "This bootcamp aims to introduce you to fundamental concepts of Python and can be used as a reference sheet during later assignments. "
   ]
  },
  {
   "cell_type": "code",
   "execution_count": null,
   "metadata": {},
   "outputs": [],
   "source": []
  },
  {
   "cell_type": "markdown",
   "metadata": {},
   "source": [
    "## Conditional Statements"
   ]
  },
  {
   "cell_type": "code",
   "execution_count": 12,
   "metadata": {},
   "outputs": [
    {
     "name": "stdout",
     "output_type": "stream",
     "text": [
      "if condition is False!\n"
     ]
    }
   ],
   "source": [
    "# Example 1: Simple if/else - Check if x is greater than 20\n",
    "\n",
    "x = 16\n"
   ]
  },
  {
   "cell_type": "code",
   "execution_count": 13,
   "metadata": {},
   "outputs": [
    {
     "name": "stdout",
     "output_type": "stream",
     "text": [
      "first if condition is False and second if condition is True!\n"
     ]
    }
   ],
   "source": [
    "# Example 2: Introducing elif\n",
    "\n",
    "x = 16\n"
   ]
  },
  {
   "cell_type": "code",
   "execution_count": 33,
   "metadata": {},
   "outputs": [
    {
     "name": "stdout",
     "output_type": "stream",
     "text": [
      "first if condition is True!\n"
     ]
    }
   ],
   "source": [
    "# Example 2: Introducing elif cont.\n",
    "\n",
    "x = 21\n",
    "\n"
   ]
  },
  {
   "cell_type": "code",
   "execution_count": 17,
   "metadata": {},
   "outputs": [
    {
     "name": "stdout",
     "output_type": "stream",
     "text": [
      "first if condition is True!\n",
      "first if condition is False and second if condition is True!\n"
     ]
    }
   ],
   "source": [
    "# Example 3: elif vs if statements\n",
    "\n",
    "x = 21\n"
   ]
  },
  {
   "cell_type": "markdown",
   "metadata": {},
   "source": [
    "# Loops"
   ]
  },
  {
   "cell_type": "code",
   "execution_count": null,
   "metadata": {},
   "outputs": [],
   "source": [
    "# Example 4: While loop\n",
    "\n",
    "i = 0\n"
   ]
  },
  {
   "cell_type": "markdown",
   "metadata": {},
   "source": [
    "Unlike while loops, which can theoretically run \"forever\" given the right condition, for loops serve a different purpose -- iterating a fixed number of times. For loops in Python expect an iterable object -- something similar to a list -- to control the number of iterations. The example below is \"equivalent\" to the while loop in the previous example."
   ]
  },
  {
   "cell_type": "code",
   "execution_count": 19,
   "metadata": {},
   "outputs": [
    {
     "name": "stdout",
     "output_type": "stream",
     "text": [
      "i: 0\n",
      "i: 1\n",
      "i: 2\n",
      "i: 3\n",
      "i: 4\n"
     ]
    }
   ],
   "source": [
    "# Example 5: For loop \n"
   ]
  },
  {
   "cell_type": "code",
   "execution_count": 41,
   "metadata": {},
   "outputs": [
    {
     "name": "stdout",
     "output_type": "stream",
     "text": [
      "i: 0\n",
      "i: 1\n",
      "i: 2\n",
      "i: 3\n",
      "i: 4\n"
     ]
    }
   ],
   "source": []
  },
  {
   "cell_type": "code",
   "execution_count": 46,
   "metadata": {},
   "outputs": [
    {
     "name": "stdout",
     "output_type": "stream",
     "text": [
      "0 is even!\n",
      "1 is odd\n",
      "2 is even!\n",
      "3 is odd\n",
      "4 is even!\n",
      "5 is odd\n",
      "6 is even!\n",
      "7 is odd\n",
      "8 is even!\n",
      "9 is odd\n",
      "10 is even!\n"
     ]
    }
   ],
   "source": [
    "# Example 6: for loop for even vs odd(cont.)\n",
    "\n"
   ]
  },
  {
   "cell_type": "code",
   "execution_count": 23,
   "metadata": {},
   "outputs": [
    {
     "name": "stdout",
     "output_type": "stream",
     "text": [
      "word: cat\n"
     ]
    }
   ],
   "source": [
    "# Example 7: Iterating through lists\n",
    "\n",
    "char_list = ['c', 'a', 't']\n",
    "#char_list = [1, 6, 'a']\n",
    "word = ''\n",
    "\n",
    "\n",
    "print('word:',word)\n",
    "\n",
    "#Side note for concatenation"
   ]
  },
  {
   "cell_type": "markdown",
   "metadata": {},
   "source": [
    "All of the loop examples so far have terminated with some sort of stopping condition (i < 5, i in range(0,5), element in char_list). But what if we wanted to exit a loop early? Or, what if we wanted to immediately go to the next loop iteration? These two changes can be applied using the **break** and **continue** statements, respectively."
   ]
  },
  {
   "cell_type": "code",
   "execution_count": 31,
   "metadata": {},
   "outputs": [
    {
     "name": "stdout",
     "output_type": "stream",
     "text": [
      "Loop without break statement.\n",
      "Skittles\n",
      "Snickers\n",
      "3 Musketeers\n",
      "Twizzlers\n",
      "Kit-Kat\n",
      "Twix\n",
      "Almond Joy\n"
     ]
    }
   ],
   "source": [
    "# Example 8: The break statement\n",
    "\n",
    "\n",
    "candies = ['Skittles', 'Snickers', 'Twizzlers', 'Kit-Kat', 'Twix']\n",
    "\n",
    "print('Loop without break statement.')\n"
   ]
  },
  {
   "cell_type": "code",
   "execution_count": 32,
   "metadata": {},
   "outputs": [
    {
     "name": "stdout",
     "output_type": "stream",
     "text": [
      "\n",
      "Loop with break statement.\n",
      "Skittles\n",
      "Snickers\n",
      "3 Musketeers\n",
      "Twizzlers\n",
      "Kit-Kat\n"
     ]
    }
   ],
   "source": [
    "print('\\nLoop with break statement.')\n"
   ]
  },
  {
   "cell_type": "code",
   "execution_count": 34,
   "metadata": {},
   "outputs": [
    {
     "name": "stdout",
     "output_type": "stream",
     "text": [
      "Same Loop as above but with continue instead of break statement.\n",
      "Skittles\n",
      "Snickers\n",
      "3 Musketeers\n",
      "Twizzlers\n",
      "Kit-Kat\n",
      "Twix\n",
      "Almond Joy\n"
     ]
    }
   ],
   "source": [
    "# Example 9: The continue statement\n",
    "\n",
    "candies = ['Skittles', 'Snickers', 'Twizzlers', 'Kit-Kat', 'Twix']\n",
    "\n",
    "print('Same Loop as above but with continue instead of break statement.')\n"
   ]
  },
  {
   "cell_type": "code",
   "execution_count": 35,
   "metadata": {},
   "outputs": [
    {
     "name": "stdout",
     "output_type": "stream",
     "text": [
      "\n",
      "Loop that skips over every-other candy.\n",
      "Skittles\n",
      "3 Musketeers\n",
      "Kit-Kat\n",
      "Almond Joy\n"
     ]
    }
   ],
   "source": [
    "print('\\nLoop that skips over every-other candy.')\n"
   ]
  },
  {
   "cell_type": "markdown",
   "metadata": {},
   "source": [
    "# Functions"
   ]
  },
  {
   "cell_type": "code",
   "execution_count": 45,
   "metadata": {},
   "outputs": [
    {
     "data": {
      "text/plain": [
       "'This number is even!'"
      ]
     },
     "execution_count": 45,
     "metadata": {},
     "output_type": "execute_result"
    }
   ],
   "source": [
    "# Example 10: Even function - Checks if number is even\n",
    "\n",
    "def is_even(num):\n",
    "    "
   ]
  },
  {
   "cell_type": "code",
   "execution_count": null,
   "metadata": {},
   "outputs": [],
   "source": [
    "# Example 11: Absolute value function - returns absolute value of a number\n",
    "\n",
    "def absolute_val(num):\n",
    "    "
   ]
  }
 ],
 "metadata": {
  "kernelspec": {
   "display_name": "Python 3",
   "language": "python",
   "name": "python3"
  },
  "language_info": {
   "codemirror_mode": {
    "name": "ipython",
    "version": 3
   },
   "file_extension": ".py",
   "mimetype": "text/x-python",
   "name": "python",
   "nbconvert_exporter": "python",
   "pygments_lexer": "ipython3",
   "version": "3.6.4"
  }
 },
 "nbformat": 4,
 "nbformat_minor": 4
}
