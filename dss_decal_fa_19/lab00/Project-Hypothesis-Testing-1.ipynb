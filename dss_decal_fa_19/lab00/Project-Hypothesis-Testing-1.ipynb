{
 "cells": [
  {
   "cell_type": "markdown",
   "metadata": {},
   "source": [
    "# Project Part 4: Hypothesis / AB Testing"
   ]
  },
  {
   "cell_type": "markdown",
   "metadata": {},
   "source": [
    "*Name*: Enter here"
   ]
  },
  {
   "cell_type": "markdown",
   "metadata": {},
   "source": [
    "In this assignment, we will continue the semester-long project that you have started in previous assignments. We will now perform hypothesis testing/AB testing with your dataset. Unlike previous sections, we've provided an example run-through of hypothesis testing and AB testing using one of the provided datasets. Hopefully, you can apply the techniques we use to your own data.  \n",
    "\n",
    "**Sections 1 and 2 of this notebook will be the example runthroughs. If you have a good idea of how you want to test your data, feel free to skip to Section 3!**"
   ]
  },
  {
   "cell_type": "code",
   "execution_count": 133,
   "metadata": {},
   "outputs": [],
   "source": [
    "import numpy as np\n",
    "import pandas as pd\n",
    "from datascience import *\n",
    "\n",
    "import matplotlib\n",
    "%matplotlib inline\n",
    "import matplotlib.pyplot as plt\n",
    "plt.style.use('fivethirtyeight')\n",
    "import warnings\n",
    "warnings.simplefilter('ignore', FutureWarning)\n",
    "from matplotlib import patches\n",
    "from ipywidgets import interact, interactive, fixed\n",
    "import ipywidgets as widgets"
   ]
  },
  {
   "cell_type": "markdown",
   "metadata": {},
   "source": [
    "## Loading your Dataset"
   ]
  },
  {
   "cell_type": "code",
   "execution_count": 134,
   "metadata": {},
   "outputs": [
    {
     "data": {
      "text/html": [
       "<div>\n",
       "<style scoped>\n",
       "    .dataframe tbody tr th:only-of-type {\n",
       "        vertical-align: middle;\n",
       "    }\n",
       "\n",
       "    .dataframe tbody tr th {\n",
       "        vertical-align: top;\n",
       "    }\n",
       "\n",
       "    .dataframe thead th {\n",
       "        text-align: right;\n",
       "    }\n",
       "</style>\n",
       "<table border=\"1\" class=\"dataframe\">\n",
       "  <thead>\n",
       "    <tr style=\"text-align: right;\">\n",
       "      <th></th>\n",
       "      <th>total_bill</th>\n",
       "      <th>tip</th>\n",
       "      <th>sex</th>\n",
       "      <th>smoker</th>\n",
       "      <th>day</th>\n",
       "      <th>time</th>\n",
       "      <th>size</th>\n",
       "    </tr>\n",
       "  </thead>\n",
       "  <tbody>\n",
       "    <tr>\n",
       "      <th>0</th>\n",
       "      <td>16.99</td>\n",
       "      <td>1.01</td>\n",
       "      <td>Female</td>\n",
       "      <td>No</td>\n",
       "      <td>Sun</td>\n",
       "      <td>Dinner</td>\n",
       "      <td>2</td>\n",
       "    </tr>\n",
       "    <tr>\n",
       "      <th>1</th>\n",
       "      <td>10.34</td>\n",
       "      <td>1.66</td>\n",
       "      <td>Male</td>\n",
       "      <td>No</td>\n",
       "      <td>Sun</td>\n",
       "      <td>Dinner</td>\n",
       "      <td>3</td>\n",
       "    </tr>\n",
       "    <tr>\n",
       "      <th>2</th>\n",
       "      <td>21.01</td>\n",
       "      <td>3.50</td>\n",
       "      <td>Male</td>\n",
       "      <td>No</td>\n",
       "      <td>Sun</td>\n",
       "      <td>Dinner</td>\n",
       "      <td>3</td>\n",
       "    </tr>\n",
       "    <tr>\n",
       "      <th>3</th>\n",
       "      <td>23.68</td>\n",
       "      <td>3.31</td>\n",
       "      <td>Male</td>\n",
       "      <td>No</td>\n",
       "      <td>Sun</td>\n",
       "      <td>Dinner</td>\n",
       "      <td>2</td>\n",
       "    </tr>\n",
       "    <tr>\n",
       "      <th>4</th>\n",
       "      <td>24.59</td>\n",
       "      <td>3.61</td>\n",
       "      <td>Female</td>\n",
       "      <td>No</td>\n",
       "      <td>Sun</td>\n",
       "      <td>Dinner</td>\n",
       "      <td>4</td>\n",
       "    </tr>\n",
       "  </tbody>\n",
       "</table>\n",
       "</div>"
      ],
      "text/plain": [
       "   total_bill   tip     sex smoker  day    time  size\n",
       "0       16.99  1.01  Female     No  Sun  Dinner     2\n",
       "1       10.34  1.66    Male     No  Sun  Dinner     3\n",
       "2       21.01  3.50    Male     No  Sun  Dinner     3\n",
       "3       23.68  3.31    Male     No  Sun  Dinner     2\n",
       "4       24.59  3.61  Female     No  Sun  Dinner     4"
      ]
     },
     "execution_count": 134,
     "metadata": {},
     "output_type": "execute_result"
    }
   ],
   "source": [
    "tips = pd.read_csv('tips.txt')\n",
    "tips.head()"
   ]
  },
  {
   "cell_type": "code",
   "execution_count": 135,
   "metadata": {},
   "outputs": [
    {
     "data": {
      "text/plain": [
       "(244, 7)"
      ]
     },
     "execution_count": 135,
     "metadata": {},
     "output_type": "execute_result"
    }
   ],
   "source": [
    "tips.shape"
   ]
  },
  {
   "cell_type": "markdown",
   "metadata": {},
   "source": [
    "## Section 1: Hypothesis Testing Runthrough"
   ]
  },
  {
   "cell_type": "markdown",
   "metadata": {},
   "source": [
    "### Null and Alternative Hypothesis "
   ]
  },
  {
   "cell_type": "markdown",
   "metadata": {},
   "source": [
    "**Null Hypothesis:** Proportion of tips to total_bill is 0.15. \n",
    "\n",
    "**Alternative Hypothesis:** Proportion of tips to total_bill is not 0.15. "
   ]
  },
  {
   "cell_type": "markdown",
   "metadata": {},
   "source": [
    "### Test Statistic\n",
    "\n",
    "Recall from lecture, a **test statistic** is a single value that contains information about the data of a particular sample that is relevant to deciding whether to reject or fail to reject the null hypothesis. "
   ]
  },
  {
   "cell_type": "markdown",
   "metadata": {},
   "source": [
    "Over here, we can use the absolute difference between the average tip proportion in our sample dataset and the value we expect it to be if the null hypothesis was true i.e. 0.15"
   ]
  },
  {
   "cell_type": "code",
   "execution_count": 136,
   "metadata": {},
   "outputs": [],
   "source": [
    "# Returns the absolute difference the average of a sample and the null hyopthesis value\n",
    "def statistic(sample_mean): \n",
    "    return abs(sample_mean - 0.15)"
   ]
  },
  {
   "cell_type": "markdown",
   "metadata": {},
   "source": [
    "### Simulation\n",
    "#### <span style='color: red'> Reminder: Always simulate under null hypothesis!! </span>\n",
    "\n",
    "We are gonna be using the sample_proportions function to simulate our coin tosses. The details of the function are given in the lecture slides. We create an array that holds our proportions- we expect the tip proportion to be 0.15, so our proportions are 0.15 and 0.85. In this scenario, we only care about the first element of the array i.e. 0.15. We also run the simulation on a sample size of 244, which is the same size as our dataframe.\n",
    "\n",
    "The following demonstrates one simulation of the average tip proportion of 244 people:"
   ]
  },
  {
   "cell_type": "code",
   "execution_count": 137,
   "metadata": {},
   "outputs": [
    {
     "data": {
      "text/plain": [
       "array([0.15983607, 0.84016393])"
      ]
     },
     "execution_count": 137,
     "metadata": {},
     "output_type": "execute_result"
    }
   ],
   "source": [
    "model_proportions = make_array(0.15,0.85)\n",
    "number_people = 244\n",
    "one_simulation = sample_proportions(number_people, model_proportions)\n",
    "one_simulation"
   ]
  },
  {
   "cell_type": "markdown",
   "metadata": {},
   "source": [
    "We want to repeat this simulation 10000 times. We use a for loop to do this as shown below. We then store our test statistic for every simulation in **simulated_null_statistics** i.e The absolute difference between each sample statistic and our null hypothesis. Again, we do this assuming that our null hypothesis is true i.e. the model proportions are (0.15, 0.85)"
   ]
  },
  {
   "cell_type": "code",
   "execution_count": 138,
   "metadata": {},
   "outputs": [
    {
     "data": {
      "text/plain": [
       "array([0.00983607, 0.03852459, 0.02295082, ..., 0.00655738, 0.03114754,\n",
       "       0.03934426])"
      ]
     },
     "execution_count": 138,
     "metadata": {},
     "output_type": "execute_result"
    }
   ],
   "source": [
    "simulated_null_statistics = make_array()\n",
    "for _ in np.arange(10000):\n",
    "    simulation = sample_proportions(number_people, model_proportions)\n",
    "    # We are only interested in tips/total_bill, not (total_bill-tips)/total_bill\n",
    "    simulated_null_statistics = np.append(simulated_null_statistics,\n",
    "                                          statistic(simulation.item(0)))\n",
    "simulated_null_statistics"
   ]
  },
  {
   "cell_type": "markdown",
   "metadata": {},
   "source": [
    "Now we can find the average value of the absolute difference ... "
   ]
  },
  {
   "cell_type": "code",
   "execution_count": 139,
   "metadata": {},
   "outputs": [
    {
     "data": {
      "text/plain": [
       "0.018230081967213114"
      ]
     },
     "execution_count": 139,
     "metadata": {},
     "output_type": "execute_result"
    }
   ],
   "source": [
    "np.mean(simulated_null_statistics)"
   ]
  },
  {
   "cell_type": "markdown",
   "metadata": {},
   "source": [
    "And we can plot a histogram showing the variation in absolute difference"
   ]
  },
  {
   "cell_type": "code",
   "execution_count": 140,
   "metadata": {},
   "outputs": [
    {
     "data": {
      "image/png": "[encoded data removed]",
      "text/plain": [
       "<Figure size 432x288 with 1 Axes>"
      ]
     },
     "metadata": {},
     "output_type": "display_data"
    }
   ],
   "source": [
    "bins = np.arange(0, 0.1, 0.005)\n",
    "plt.hist(simulated_null_statistics, bins, facecolor='#000080', alpha=0.5)\n",
    "plt.xlabel('Absolute Difference between simulated ratios and 0.15')\n",
    "plt.ylabel('Number of trials out of 10000')\n",
    "plt.show()"
   ]
  },
  {
   "cell_type": "markdown",
   "metadata": {},
   "source": [
    "### Observed Statistic for dataset\n",
    "\n",
    "Now we compare the statistic we observe in the dataset to the distribution of our test statistics"
   ]
  },
  {
   "cell_type": "markdown",
   "metadata": {},
   "source": [
    "First, we find the average tip proportion in our dataset and store it"
   ]
  },
  {
   "cell_type": "code",
   "execution_count": 141,
   "metadata": {},
   "outputs": [
    {
     "data": {
      "text/plain": [
       "0.16080258172250472"
      ]
     },
     "execution_count": 141,
     "metadata": {},
     "output_type": "execute_result"
    }
   ],
   "source": [
    "average_tip_proportion = (tips[\"tip\"]/tips[\"total_bill\"]).mean()\n",
    "average_tip_proportion"
   ]
  },
  {
   "cell_type": "markdown",
   "metadata": {},
   "source": [
    "Next, we convert this average into a statistic and plot this on the variation graph"
   ]
  },
  {
   "cell_type": "code",
   "execution_count": 142,
   "metadata": {
    "scrolled": true
   },
   "outputs": [
    {
     "data": {
      "image/png": "[encoded data removed]",
      "text/plain": [
       "<Figure size 432x288 with 1 Axes>"
      ]
     },
     "metadata": {},
     "output_type": "display_data"
    }
   ],
   "source": [
    "observed_statistic = statistic(average_tip_proportion)\n",
    "bins = np.arange(0, 0.1, 0.005)\n",
    "plt.hist(simulated_null_statistics, bins, facecolor='#000080', alpha=0.5)\n",
    "plt.xlabel('Absolute Difference between simulated ratios and 0.15')\n",
    "plt.ylabel('Number of trials out of 10000')\n",
    "plt.scatter(observed_statistic, 0, color='red', s=100);"
   ]
  },
  {
   "cell_type": "markdown",
   "metadata": {},
   "source": [
    "We can see from the plot that we are **extremely likely** to get a proportion corresponding to the one observed from the simulations purely by chance. Therefore it is unlikely that our observations from this sample could lead to rejection of the null hypothesis. In order to verify this, we move on to **Computing the P value and significance testing**"
   ]
  },
  {
   "cell_type": "markdown",
   "metadata": {},
   "source": [
    "### Computing P Value and testing significance"
   ]
  },
  {
   "cell_type": "markdown",
   "metadata": {},
   "source": [
    "Selecting **significance level** (α) = 0.05"
   ]
  },
  {
   "cell_type": "markdown",
   "metadata": {},
   "source": [
    "The P Value gives us the probability of getting the observed statistic for the dataset purely by chance **if the null hypothesis is true**. If our P Value is below the significance level, then we have sufficient evidence to conclude that it is highly unlikely our observed statistic is purely by chance and suggests that we can reject the null hypothesis. If the P Value is above the significance level, then it is likely that our result occurs merely by chance and we do not have sufficicent evidence to reject the null hypothesis- **i.e. we fail to reject the null hypothesis**\n",
    "\n",
    "We calculate the P Value by calculating the area to the right of the red dot on the graph, in this case, we can count all values that have a test statistic greater than or equal to the observed statistic and divide it by the length of the dataset."
   ]
  },
  {
   "cell_type": "code",
   "execution_count": 143,
   "metadata": {},
   "outputs": [
    {
     "data": {
      "text/plain": [
       "0.586"
      ]
     },
     "execution_count": 143,
     "metadata": {},
     "output_type": "execute_result"
    }
   ],
   "source": [
    "proportion_greater_or_equal = sum(simulated_null_statistics >= observed_statistic)/len(simulated_null_statistics)\n",
    "proportion_greater_or_equal "
   ]
  },
  {
   "cell_type": "markdown",
   "metadata": {},
   "source": [
    "We see that our calculated P Value = 0.5881 >  0.05 (α). Therefore, **we fail to reject the null hypothesis**"
   ]
  },
  {
   "cell_type": "markdown",
   "metadata": {},
   "source": [
    "Now assume we have a dataset that gives us an observed statistic of 0.045 i.e. the absolute difference between the observed statistic and 0.15 is 0.045"
   ]
  },
  {
   "cell_type": "code",
   "execution_count": 144,
   "metadata": {},
   "outputs": [
    {
     "data": {
      "image/png": "[encoded data removed]",
      "text/plain": [
       "<Figure size 432x288 with 1 Axes>"
      ]
     },
     "metadata": {},
     "output_type": "display_data"
    }
   ],
   "source": [
    "second_observed_statistic = 0.045\n",
    "observed_statistic = statistic(average_tip_proportion)\n",
    "bins = np.arange(0, 0.1, 0.005)\n",
    "plt.hist(simulated_null_statistics, bins, facecolor='#000080', alpha=0.5)\n",
    "plt.xlabel('Absolute Difference between simulated ratios and 0.15')\n",
    "plt.ylabel('Number of trials out of 10000')\n",
    "plt.scatter(second_observed_statistic, 0, color='red', s=60);"
   ]
  },
  {
   "cell_type": "markdown",
   "metadata": {},
   "source": [
    "We see that the area to the right of the red point is very small, suggesting that our observation may lead to us rejecting the null hypothesis. Continuing with α = 0.05, we calculate the P Value:"
   ]
  },
  {
   "cell_type": "code",
   "execution_count": 145,
   "metadata": {},
   "outputs": [
    {
     "data": {
      "text/plain": [
       "0.0491"
      ]
     },
     "execution_count": 145,
     "metadata": {},
     "output_type": "execute_result"
    }
   ],
   "source": [
    "second_proportion_greater_or_equal = sum(simulated_null_statistics >= second_observed_statistic)/len(simulated_null_statistics)\n",
    "second_proportion_greater_or_equal"
   ]
  },
  {
   "cell_type": "markdown",
   "metadata": {},
   "source": [
    "Notice that the P Value = 0.0462 < 0.05 (α). This is sufficient to reject our null hypothesis!\n",
    "\n",
    "<span style='color:red'> Notice that we don't \"prove\" either the null or alternative hypothesis. The only things we can do in a hypothesis test is reject or fail to reject our null hypothesis</span>"
   ]
  },
  {
   "cell_type": "markdown",
   "metadata": {},
   "source": [
    "## Section 2: A/B Testing Runthrough "
   ]
  },
  {
   "cell_type": "markdown",
   "metadata": {},
   "source": [
    "### Null and Alternative Hypothesis"
   ]
  },
  {
   "cell_type": "markdown",
   "metadata": {},
   "source": [
    "**Null Hypothesis:** Whether a person smokes or not **does not** affect the amount they tip. \n",
    "\n",
    "**Alternative Hypothesis:** Whether a person smokes or not **does** affect the amount they tip. "
   ]
  },
  {
   "cell_type": "markdown",
   "metadata": {},
   "source": [
    "### Test Statistic"
   ]
  },
  {
   "cell_type": "markdown",
   "metadata": {},
   "source": [
    " **Test statistic:** absolute difference between average of proportion of tip for smokers and that of non-smokers."
   ]
  },
  {
   "cell_type": "code",
   "execution_count": 152,
   "metadata": {},
   "outputs": [],
   "source": [
    "def statistic(avg_tip_smoker, avg_tip_nonsmoker): \n",
    "    return abs(avg_tip_smoker - avg_tip_nonsmoker);"
   ]
  },
  {
   "cell_type": "markdown",
   "metadata": {},
   "source": [
    "### Simulation \n"
   ]
  },
  {
   "cell_type": "markdown",
   "metadata": {},
   "source": [
    "**Remember to always simulate under the null hypothesis!**\n",
    "\n",
    "Recall in the *Hypothesis Testing* section, we simulated under the null using sample_proportions() from the data science module. Simulating under the null for AB Testing will take on a different approach that we will outline here. \n",
    "\n",
    "Instead of sample_proportions, we will use the **sample()** function. This function returns a random sample of items from the dataframe it is called on. [Here](https://pandas.pydata.org/pandas-docs/stable/reference/api/pandas.DataFrame.sample.html) is the full documentation. \n"
   ]
  },
  {
   "cell_type": "markdown",
   "metadata": {},
   "source": [
    "**Follow these steps!**\n",
    "\n",
    "1. Use sample() to take a random sample of size n (number of rows in our data) without replacement for the *smoker* column. We are essentially shuffling the rows of our dataset. \n",
    "\n",
    "2. Make a new column for the shuffled labels and drop the original *smoker* label. Doing this assigns a random smoker label to proportion_tips, simulating under the null that there is no association between *smoker* and *proportion_tips*.\n",
    "\n",
    "3. Calculate the null statistic "
   ]
  },
  {
   "cell_type": "code",
   "execution_count": 153,
   "metadata": {},
   "outputs": [],
   "source": [
    "#SETUP. Run this cell. \n",
    "tips['proportion_tips'] = tips['tip'] / tips['total_bill']\n",
    "example = tips"
   ]
  },
  {
   "cell_type": "code",
   "execution_count": 154,
   "metadata": {},
   "outputs": [
    {
     "data": {
      "text/plain": [
       "0     No\n",
       "1     No\n",
       "2    Yes\n",
       "3    Yes\n",
       "4     No\n",
       "Name: smoker, dtype: object"
      ]
     },
     "metadata": {},
     "output_type": "display_data"
    },
    {
     "data": {
      "text/plain": [
       "0    No\n",
       "1    No\n",
       "2    No\n",
       "3    No\n",
       "4    No\n",
       "Name: smoker, dtype: object"
      ]
     },
     "metadata": {},
     "output_type": "display_data"
    }
   ],
   "source": [
    "#Step 1\n",
    "#Notice the difference in the two outputted column series. The rows are shuffled!\n",
    "shuffled_labels = example['smoker'].sample(n = len(example.index)).reset_index()['smoker']\n",
    "non_shuffled_labels = example['smoker']\n",
    "\n",
    "#run this multiple times and you will see the output of shuffled_labels changes.\n",
    "display(shuffled_labels.head())\n",
    "display(non_shuffled_labels.head())"
   ]
  },
  {
   "cell_type": "code",
   "execution_count": 155,
   "metadata": {
    "scrolled": false
   },
   "outputs": [
    {
     "data": {
      "text/html": [
       "<div>\n",
       "<style scoped>\n",
       "    .dataframe tbody tr th:only-of-type {\n",
       "        vertical-align: middle;\n",
       "    }\n",
       "\n",
       "    .dataframe tbody tr th {\n",
       "        vertical-align: top;\n",
       "    }\n",
       "\n",
       "    .dataframe thead th {\n",
       "        text-align: right;\n",
       "    }\n",
       "</style>\n",
       "<table border=\"1\" class=\"dataframe\">\n",
       "  <thead>\n",
       "    <tr style=\"text-align: right;\">\n",
       "      <th></th>\n",
       "      <th>total_bill</th>\n",
       "      <th>tip</th>\n",
       "      <th>sex</th>\n",
       "      <th>day</th>\n",
       "      <th>time</th>\n",
       "      <th>size</th>\n",
       "      <th>proportion_tips</th>\n",
       "      <th>Shuffled Smoker</th>\n",
       "    </tr>\n",
       "  </thead>\n",
       "  <tbody>\n",
       "    <tr>\n",
       "      <th>0</th>\n",
       "      <td>16.99</td>\n",
       "      <td>1.01</td>\n",
       "      <td>Female</td>\n",
       "      <td>Sun</td>\n",
       "      <td>Dinner</td>\n",
       "      <td>2</td>\n",
       "      <td>0.059447</td>\n",
       "      <td>No</td>\n",
       "    </tr>\n",
       "    <tr>\n",
       "      <th>1</th>\n",
       "      <td>10.34</td>\n",
       "      <td>1.66</td>\n",
       "      <td>Male</td>\n",
       "      <td>Sun</td>\n",
       "      <td>Dinner</td>\n",
       "      <td>3</td>\n",
       "      <td>0.160542</td>\n",
       "      <td>No</td>\n",
       "    </tr>\n",
       "    <tr>\n",
       "      <th>2</th>\n",
       "      <td>21.01</td>\n",
       "      <td>3.50</td>\n",
       "      <td>Male</td>\n",
       "      <td>Sun</td>\n",
       "      <td>Dinner</td>\n",
       "      <td>3</td>\n",
       "      <td>0.166587</td>\n",
       "      <td>Yes</td>\n",
       "    </tr>\n",
       "    <tr>\n",
       "      <th>3</th>\n",
       "      <td>23.68</td>\n",
       "      <td>3.31</td>\n",
       "      <td>Male</td>\n",
       "      <td>Sun</td>\n",
       "      <td>Dinner</td>\n",
       "      <td>2</td>\n",
       "      <td>0.139780</td>\n",
       "      <td>Yes</td>\n",
       "    </tr>\n",
       "    <tr>\n",
       "      <th>4</th>\n",
       "      <td>24.59</td>\n",
       "      <td>3.61</td>\n",
       "      <td>Female</td>\n",
       "      <td>Sun</td>\n",
       "      <td>Dinner</td>\n",
       "      <td>4</td>\n",
       "      <td>0.146808</td>\n",
       "      <td>No</td>\n",
       "    </tr>\n",
       "  </tbody>\n",
       "</table>\n",
       "</div>"
      ],
      "text/plain": [
       "   total_bill   tip     sex  day    time  size  proportion_tips  \\\n",
       "0       16.99  1.01  Female  Sun  Dinner     2         0.059447   \n",
       "1       10.34  1.66    Male  Sun  Dinner     3         0.160542   \n",
       "2       21.01  3.50    Male  Sun  Dinner     3         0.166587   \n",
       "3       23.68  3.31    Male  Sun  Dinner     2         0.139780   \n",
       "4       24.59  3.61  Female  Sun  Dinner     4         0.146808   \n",
       "\n",
       "  Shuffled Smoker  \n",
       "0              No  \n",
       "1              No  \n",
       "2             Yes  \n",
       "3             Yes  \n",
       "4              No  "
      ]
     },
     "execution_count": 155,
     "metadata": {},
     "output_type": "execute_result"
    }
   ],
   "source": [
    "#Step 2\n",
    "#Each row in example has a new 'smoker' status. \n",
    "example['Shuffled Smoker'] = shuffled_labels\n",
    "example = example.drop(columns = 'smoker')\n",
    "example.head()"
   ]
  },
  {
   "cell_type": "code",
   "execution_count": 156,
   "metadata": {},
   "outputs": [
    {
     "data": {
      "text/plain": [
       "0.0008193008514210398"
      ]
     },
     "execution_count": 156,
     "metadata": {},
     "output_type": "execute_result"
    }
   ],
   "source": [
    "#Step 3\n",
    "example = example[['proportion_tips', 'Shuffled Smoker']].groupby('Shuffled Smoker').agg(np.mean)\n",
    "null_statistic = statistic(example.loc['No', 'proportion_tips'], example.loc['Yes', 'proportion_tips'])\n",
    "null_statistic"
   ]
  },
  {
   "cell_type": "markdown",
   "metadata": {},
   "source": [
    "The **simulate_null_statistic()** function below simulates ONE statistic under the null. This function combined the steps we went over above."
   ]
  },
  {
   "cell_type": "code",
   "execution_count": 157,
   "metadata": {},
   "outputs": [
    {
     "data": {
      "text/plain": [
       "0.015294969542649361"
      ]
     },
     "execution_count": 157,
     "metadata": {},
     "output_type": "execute_result"
    }
   ],
   "source": [
    "def simulate_null_statistic():\n",
    "    shuffled_labels = tips['smoker'].sample(n = len(tips.index)).reset_index()['smoker']\n",
    "    tips['Shuffled Smoker'] = shuffled_labels\n",
    "    updated_tips = tips.drop(columns = 'smoker')\n",
    "    updated_tips = updated_tips[['proportion_tips', 'Shuffled Smoker']].groupby('Shuffled Smoker').agg(np.mean)\n",
    "    return statistic(updated_tips.loc['Yes', 'proportion_tips'], updated_tips.loc['No', 'proportion_tips'])\n",
    "\n",
    "simulate_null_statistic()"
   ]
  },
  {
   "cell_type": "markdown",
   "metadata": {},
   "source": [
    "\n",
    "Simulate statistics under the null 10000 times and store it in the **simulated_null_statistics** array."
   ]
  },
  {
   "cell_type": "code",
   "execution_count": 158,
   "metadata": {},
   "outputs": [
    {
     "data": {
      "text/plain": [
       "array([0.00281831, 0.00742231, 0.00708322, ..., 0.01071967, 0.00283697,\n",
       "       0.00586729])"
      ]
     },
     "execution_count": 158,
     "metadata": {},
     "output_type": "execute_result"
    }
   ],
   "source": [
    "simulated_null_statistics = np.array([])\n",
    "for _ in np.arange(10000):\n",
    "    null_statistic = simulate_null_statistic()\n",
    "    simulated_null_statistics = np.append(simulated_null_statistics, null_statistic)\n",
    "simulated_null_statistics"
   ]
  },
  {
   "cell_type": "markdown",
   "metadata": {},
   "source": [
    "### Observed Statistic"
   ]
  },
  {
   "cell_type": "code",
   "execution_count": 159,
   "metadata": {},
   "outputs": [
    {
     "data": {
      "text/plain": [
       "0.003867582457662583"
      ]
     },
     "execution_count": 159,
     "metadata": {},
     "output_type": "execute_result"
    }
   ],
   "source": [
    "grouped_by_smoker = tips[['smoker', 'proportion_tips']].groupby('smoker').agg(np.mean) \n",
    "\n",
    "#Now, we can use the statistic function we defined earlier to calculate observed statistic. \n",
    "observed_statistic = statistic(grouped_by_smoker.loc['Yes', 'proportion_tips'], grouped_by_smoker.loc['No', 'proportion_tips'])\n",
    "observed_statistic"
   ]
  },
  {
   "cell_type": "markdown",
   "metadata": {},
   "source": [
    "### Visualization "
   ]
  },
  {
   "cell_type": "code",
   "execution_count": 160,
   "metadata": {},
   "outputs": [
    {
     "data": {
      "text/plain": [
       "<matplotlib.collections.PathCollection at 0x7f6c06856340>"
      ]
     },
     "execution_count": 160,
     "metadata": {},
     "output_type": "execute_result"
    },
    {
     "data": {
      "image/png": "[encoded data removed]",
      "text/plain": [
       "<Figure size 432x288 with 1 Axes>"
      ]
     },
     "metadata": {},
     "output_type": "display_data"
    }
   ],
   "source": [
    "plt.hist(simulated_null_statistics, alpha = 0.5)\n",
    "plt.xlabel('Absolute Difference of Proportion Tips Between Non-smokers and Smokers', fontsize = 12)\n",
    "plt.ylabel('Count', fontsize = 15)\n",
    "plt.scatter(observed_statistic, 0, color = 'red', s = 100)"
   ]
  },
  {
   "cell_type": "markdown",
   "metadata": {},
   "source": [
    "### P-Value and Significance Intepretation"
   ]
  },
  {
   "cell_type": "code",
   "execution_count": 161,
   "metadata": {},
   "outputs": [
    {
     "data": {
      "text/plain": [
       "0.6364"
      ]
     },
     "execution_count": 161,
     "metadata": {},
     "output_type": "execute_result"
    }
   ],
   "source": [
    "p_value = sum(simulated_null_statistics >= observed_statistic) / len(simulated_null_statistics)\n",
    "p_value"
   ]
  },
  {
   "cell_type": "markdown",
   "metadata": {},
   "source": [
    "**Significance level** (α) = 0.05\n",
    "\n",
    "<span style='color:red'>Because our p-value, 0.651, is greater than 0.05 we fail to reject the null hypothesis. There is not enough statistical evidence to suggest that non-smokers and smokers tip differently</span>"
   ]
  },
  {
   "cell_type": "markdown",
   "metadata": {},
   "source": [
    "## Section 3: Do it on your own dataset! "
   ]
  },
  {
   "cell_type": "markdown",
   "metadata": {},
   "source": [
    "This is a repeat of Sections 1 and 2 but you will be importing your own data and performing either Hypothesis or A/B Testing. \n",
    "\n",
    "By now, you should have your dataset from the internet. It will likely be in the form of a csv, tsv, or JSON file type. If it isn't one of these, contact a TA. Feel free to use our code from Sections 1 and 2 as a reference, however you must come up with your own null and alternative hypotheses and perform your own statistical analysis on it"
   ]
  },
  {
   "cell_type": "code",
   "execution_count": 162,
   "metadata": {},
   "outputs": [],
   "source": [
    "## Load your own dataset here\n",
    "\n"
   ]
  },
  {
   "cell_type": "markdown",
   "metadata": {},
   "source": [
    "### Null and Alternative Hypothesis \n"
   ]
  },
  {
   "cell_type": "markdown",
   "metadata": {},
   "source": [
    "**Null hypothesis:** TYPE YOUR ANSWER HERE\n",
    "\n",
    "**Alternative hypothesis:** TYPE YOUR ANSWER HERE"
   ]
  },
  {
   "cell_type": "markdown",
   "metadata": {},
   "source": [
    "### Test Statistic\n",
    "\n",
    "Write, in words, what you want to use as your **test statistic**"
   ]
  },
  {
   "cell_type": "markdown",
   "metadata": {},
   "source": [
    "TYPE YOUR ANSWER HERE"
   ]
  },
  {
   "cell_type": "markdown",
   "metadata": {},
   "source": [
    "Now, implement a function that computes your test statistic. "
   ]
  },
  {
   "cell_type": "code",
   "execution_count": 163,
   "metadata": {},
   "outputs": [],
   "source": [
    "def statistic(*args): \n",
    "    return ... "
   ]
  },
  {
   "cell_type": "markdown",
   "metadata": {},
   "source": [
    "### Simulation "
   ]
  },
  {
   "cell_type": "markdown",
   "metadata": {},
   "source": [
    "Implement a function that computes ONE statistic simulated under the null. "
   ]
  },
  {
   "cell_type": "code",
   "execution_count": 164,
   "metadata": {},
   "outputs": [],
   "source": [
    "def simulate_null_statistic():\n",
    "    return ..."
   ]
  },
  {
   "cell_type": "markdown",
   "metadata": {},
   "source": [
    "Simulate null statistic 10000 times"
   ]
  },
  {
   "cell_type": "code",
   "execution_count": 165,
   "metadata": {},
   "outputs": [
    {
     "data": {
      "text/plain": [
       "Ellipsis"
      ]
     },
     "execution_count": 165,
     "metadata": {},
     "output_type": "execute_result"
    }
   ],
   "source": [
    "..."
   ]
  },
  {
   "cell_type": "markdown",
   "metadata": {},
   "source": [
    "### Observed Statistic\n",
    "\n",
    "Determine your observed statistic based on the feature/features you've selected."
   ]
  },
  {
   "cell_type": "code",
   "execution_count": 166,
   "metadata": {},
   "outputs": [
    {
     "data": {
      "text/plain": [
       "Ellipsis"
      ]
     },
     "execution_count": 166,
     "metadata": {},
     "output_type": "execute_result"
    }
   ],
   "source": [
    "observed_statistic = ...\n",
    "observed_statistic "
   ]
  },
  {
   "cell_type": "markdown",
   "metadata": {},
   "source": [
    "### P-Value and Interpretation\n",
    "\n",
    "Make a histogram with your simulated null statistics and observed statistic"
   ]
  },
  {
   "cell_type": "code",
   "execution_count": 167,
   "metadata": {},
   "outputs": [
    {
     "data": {
      "text/plain": [
       "Ellipsis"
      ]
     },
     "execution_count": 167,
     "metadata": {},
     "output_type": "execute_result"
    }
   ],
   "source": [
    "... "
   ]
  },
  {
   "cell_type": "markdown",
   "metadata": {},
   "source": [
    "Calculate p-value. "
   ]
  },
  {
   "cell_type": "code",
   "execution_count": 168,
   "metadata": {},
   "outputs": [
    {
     "data": {
      "text/plain": [
       "Ellipsis"
      ]
     },
     "execution_count": 168,
     "metadata": {},
     "output_type": "execute_result"
    }
   ],
   "source": [
    "... "
   ]
  },
  {
   "cell_type": "markdown",
   "metadata": {},
   "source": [
    "Intepret p-value with significance level of 0.05. "
   ]
  },
  {
   "cell_type": "markdown",
   "metadata": {},
   "source": [
    "TYPE YOUR ANSWER HERE"
   ]
  },
  {
   "cell_type": "markdown",
   "metadata": {},
   "source": [
    "### CONGRATULATIONS! \n",
    "\n",
    "You are done with this part 4 of the project :) "
   ]
  },
  {
   "cell_type": "code",
   "execution_count": null,
   "metadata": {},
   "outputs": [],
   "source": []
  }
 ],
 "metadata": {
  "kernelspec": {
   "display_name": "Python 3",
   "language": "python",
   "name": "python3"
  },
  "language_info": {
   "codemirror_mode": {
    "name": "ipython",
    "version": 3
   },
   "file_extension": ".py",
   "mimetype": "text/x-python",
   "name": "python",
   "nbconvert_exporter": "python",
   "pygments_lexer": "ipython3",
   "version": "3.8.6"
  }
 },
 "nbformat": 4,
 "nbformat_minor": 4
}
