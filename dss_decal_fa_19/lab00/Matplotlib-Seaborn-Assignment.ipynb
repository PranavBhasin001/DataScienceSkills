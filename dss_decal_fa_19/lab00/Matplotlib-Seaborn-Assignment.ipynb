{
 "cells": [
  {
   "cell_type": "markdown",
   "metadata": {},
   "source": [
    "## Project Part 8 : Visualizations"
   ]
  },
  {
   "cell_type": "markdown",
   "metadata": {},
   "source": [
    "Name: Enter here"
   ]
  },
  {
   "cell_type": "markdown",
   "metadata": {},
   "source": [
    "In this assignment, we will continue the semester-long project that you have started in previous assignments. We will now begin using some visualization techniques you've seen in the matplotlib and seaborn lecture."
   ]
  },
  {
   "cell_type": "code",
   "execution_count": null,
   "metadata": {},
   "outputs": [],
   "source": [
    "import numpy as np\n",
    "import pandas as pd\n",
    "import seaborn as sns\n",
    "import matplotlib\n",
    "from matplotlib import pyplot as plt"
   ]
  },
  {
   "cell_type": "markdown",
   "metadata": {},
   "source": [
    "The following are some keyboard shortcuts you might find useful in Jupyter.\n",
    "\n",
    "\n",
    "- `shift` + `enter`: run current cell (move cursor to next cell)\n",
    "- `ctrl` + `enter`: run current cell\n",
    "- `esc` + `h`: access keyboard shortcuts\n",
    "- `esc` + `p`: access commands\n",
    "- `esc` + `m`: change cell to 'Markdown'\n",
    "- `esc` + `y`: change cell to 'Code'\n",
    "- `esc` + `a`: insert code cell above\n",
    "- `esc` + `b`: insert code cell below"
   ]
  },
  {
   "cell_type": "markdown",
   "metadata": {},
   "source": [
    "### Loading your Dataset"
   ]
  },
  {
   "cell_type": "markdown",
   "metadata": {},
   "source": [
    "This is a repeat of instructions from a past assignment but you will be importing data into every notebook you work with. \n",
    "\n",
    "By now, you should have your dataset from the internet. It will likely be in the form of a csv, tsv, or JSON file type. If it isn't one of these, contact a TA. The next cells will show you how to bring your dataset into the notebook as a Pandas DataFrame. **Only fill in the cell that corresponds to your file's type.**"
   ]
  },
  {
   "cell_type": "code",
   "execution_count": null,
   "metadata": {},
   "outputs": [],
   "source": [
    "# Import your data and display the first few rows using pandas\n",
    "df = ...\n",
    "df"
   ]
  },
  {
   "cell_type": "markdown",
   "metadata": {},
   "source": [
    "### Select 2 Variables (Columns) That You Want to Plot the Relationship Of\n",
    "#### Should have some sort of relationship"
   ]
  },
  {
   "cell_type": "code",
   "execution_count": null,
   "metadata": {},
   "outputs": [],
   "source": [
    "#Create new dataframe with only 2 columns\n",
    "spliced = ...\n",
    "\n",
    "#Display first few rows\n",
    "spliced..."
   ]
  },
  {
   "cell_type": "markdown",
   "metadata": {},
   "source": [
    "#### What type of data are these two variables? (Choose from the 4 main provided in lecture)"
   ]
  },
  {
   "cell_type": "markdown",
   "metadata": {},
   "source": [
    "TYPE ANSWER HERE"
   ]
  },
  {
   "cell_type": "markdown",
   "metadata": {},
   "source": [
    "#### What type of visualization should you use? Explain why."
   ]
  },
  {
   "cell_type": "markdown",
   "metadata": {},
   "source": [
    "TYPE ANSWER HERE"
   ]
  },
  {
   "cell_type": "markdown",
   "metadata": {},
   "source": [
    "### Graphing Time!"
   ]
  },
  {
   "cell_type": "markdown",
   "metadata": {},
   "source": [
    "#### You will graph your visualization twice, once in Seaborn and once in Matplotlib"
   ]
  },
  {
   "cell_type": "code",
   "execution_count": null,
   "metadata": {},
   "outputs": [],
   "source": [
    "# First in Seaborn\n",
    "sns..."
   ]
  },
  {
   "cell_type": "code",
   "execution_count": null,
   "metadata": {},
   "outputs": [],
   "source": [
    "# Now in Matplotlib\n",
    "fig, ax = ...\n",
    "ax..."
   ]
  },
  {
   "cell_type": "markdown",
   "metadata": {},
   "source": [
    "#### Describe what the visualization shows and any interesting observations"
   ]
  },
  {
   "cell_type": "markdown",
   "metadata": {},
   "source": [
    "TYPE ANSWER HERE"
   ]
  },
  {
   "cell_type": "markdown",
   "metadata": {},
   "source": [
    "### You have finished the assignment! Follow below for optional parts."
   ]
  },
  {
   "cell_type": "markdown",
   "metadata": {},
   "source": [
    "#### You can play around with additional features of the python packages(color, "
   ]
  },
  {
   "cell_type": "code",
   "execution_count": null,
   "metadata": {},
   "outputs": [],
   "source": []
  }
 ],
 "metadata": {
  "kernelspec": {
   "display_name": "Python 3",
   "language": "python",
   "name": "python3"
  },
  "language_info": {
   "codemirror_mode": {
    "name": "ipython",
    "version": 3
   },
   "file_extension": ".py",
   "mimetype": "text/x-python",
   "name": "python",
   "nbconvert_exporter": "python",
   "pygments_lexer": "ipython3",
   "version": "3.7.4"
  }
 },
 "nbformat": 4,
 "nbformat_minor": 2
}
