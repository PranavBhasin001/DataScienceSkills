{
 "cells": [
  {
   "cell_type": "markdown",
   "metadata": {},
   "source": [
    "## Project Part 3 : Linear Regression"
   ]
  },
  {
   "cell_type": "markdown",
   "metadata": {},
   "source": [
    "Name: Enter here"
   ]
  },
  {
   "cell_type": "markdown",
   "metadata": {},
   "source": [
    "In this assignment, we will continue the semester-long project that you have started in previous assignments. We will now begin using some data modeling techniques you learned from the linear regression lecture. There are many different types of modeling that you will learn throughout data science but this is one of the beginner ones. "
   ]
  },
  {
   "cell_type": "code",
   "execution_count": null,
   "metadata": {},
   "outputs": [],
   "source": [
    "# Run this cell\n",
    "import pandas as pd\n",
    "import numpy as np \n",
    "from sklearn.model_selection import train_test_split\n",
    "from sklearn.linear_model import LinearRegression\n",
    "from matplotlib import pyplot as plt"
   ]
  },
  {
   "cell_type": "markdown",
   "metadata": {},
   "source": [
    "The following are some keyboard shortcuts you might find useful in Jupyter.\n",
    "\n",
    "\n",
    "- `shift` + `enter`: run current cell (move cursor to next cell)\n",
    "- `ctrl` + `enter`: run current cell\n",
    "- `esc` + `h`: access keyboard shortcuts\n",
    "- `esc` + `p`: access commands\n",
    "- `esc` + `m`: change cell to 'Markdown'\n",
    "- `esc` + `y`: change cell to 'Code'\n",
    "- `esc` + `a`: insert code cell above\n",
    "- `esc` + `b`: insert code cell below"
   ]
  },
  {
   "cell_type": "markdown",
   "metadata": {},
   "source": [
    "### Loading your Dataset"
   ]
  },
  {
   "cell_type": "markdown",
   "metadata": {},
   "source": [
    "This is a repeat of instructions from a past assignment but you will be importing data into every notebook you work with. \n",
    "\n",
    "By now, you should have your dataset from the internet. It will likely be in the form of a csv, tsv, or JSON file type. If it isn't one of these, contact a TA. The next cells will show you how to bring your dataset into the notebook as a Pandas DataFrame. **Only fill in the cell that corresponds to your file's type.**"
   ]
  },
  {
   "cell_type": "code",
   "execution_count": null,
   "metadata": {},
   "outputs": [],
   "source": [
    "# Import your data and display the first few rows using pandas\n",
    "df = ...\n",
    "df"
   ]
  },
  {
   "cell_type": "markdown",
   "metadata": {},
   "source": [
    "### Choosing your two variables (one independent/predictor, one dependent/response)"
   ]
  },
  {
   "cell_type": "code",
   "execution_count": null,
   "metadata": {},
   "outputs": [],
   "source": [
    "#Assign the spliced variable to be a Pandas dataframe containing only the two columns of interest\n",
    "#The first should be the independent variable we will be using to predict the dependent variable\n",
    "#The second should be the dependent variable (response) \n",
    "spliced = ...\n",
    "#Display first few rows\n",
    "..."
   ]
  },
  {
   "cell_type": "markdown",
   "metadata": {},
   "source": [
    "#### Why did you choose these particular columns as the dependent and independent variables respectively? What do you wish to predict/understand?"
   ]
  },
  {
   "cell_type": "markdown",
   "metadata": {},
   "source": [
    "*TYPE ANSWER HERE*"
   ]
  },
  {
   "cell_type": "markdown",
   "metadata": {},
   "source": [
    "### Check if variables are linearly correlated"
   ]
  },
  {
   "cell_type": "code",
   "execution_count": null,
   "metadata": {},
   "outputs": [],
   "source": [
    "#Convert both variables into standard units\n",
    "standard_units_indep = ...\n",
    "standard_units_dep = ..."
   ]
  },
  {
   "cell_type": "code",
   "execution_count": null,
   "metadata": {},
   "outputs": [],
   "source": [
    "#Calculate correlation coefficient\n",
    "r = ..."
   ]
  },
  {
   "cell_type": "code",
   "execution_count": null,
   "metadata": {},
   "outputs": [],
   "source": [
    "#Are your variables positively, negatively, or not correlated?\n",
    "#Replace with 1, 2, 3 respectively\n",
    "#If they are not correlated, pick an independent and dependent variables that have a strong correlation\n",
    "#i.e. not close to 0\n",
    "correlation = ...\n",
    "correlation"
   ]
  },
  {
   "cell_type": "code",
   "execution_count": null,
   "metadata": {},
   "outputs": [],
   "source": [
    "#In order to view the realtionship between your two chosen variables, run the following piece of code\n",
    "#This should create a scatter plot. Pass in your independent variable first, this will be on the x-axis.\n",
    "#Is this visualization consistent with the correlation coefficent you calculated above?\n",
    "plt.scatter(df[...],df[...])"
   ]
  },
  {
   "cell_type": "markdown",
   "metadata": {},
   "source": [
    "### Creating separate columns"
   ]
  },
  {
   "cell_type": "code",
   "execution_count": null,
   "metadata": {},
   "outputs": [],
   "source": [
    "#Assign X variable to one column from your dataset, the column of the independent variable\n",
    "#Assign Y variable to one column from your dataset, the column of the dependent variable\n",
    "X = ...\n",
    "Y = ..."
   ]
  },
  {
   "cell_type": "markdown",
   "metadata": {},
   "source": [
    "### Splitting into training/testing dataset"
   ]
  },
  {
   "cell_type": "code",
   "execution_count": null,
   "metadata": {},
   "outputs": [],
   "source": [
    "#In order to split our dataset into training and testing sets, use the train_test_split function imported above\n",
    "#The test_size=0.2 inside the function indicates the percentage of the data that should be held over for testing"
   ]
  },
  {
   "cell_type": "code",
   "execution_count": null,
   "metadata": {},
   "outputs": [],
   "source": [
    "x_train, x_test,y_train,y_test = train_test_split(...,...,test_size =0.2)"
   ]
  },
  {
   "cell_type": "code",
   "execution_count": null,
   "metadata": {},
   "outputs": [],
   "source": [
    "x_train"
   ]
  },
  {
   "cell_type": "markdown",
   "metadata": {},
   "source": [
    "#### Run the cells above multiple times. Do you get the same output? Why may the values be different (or why not)?"
   ]
  },
  {
   "cell_type": "markdown",
   "metadata": {},
   "source": [
    "*TYPE ANSWER HERE*"
   ]
  },
  {
   "cell_type": "markdown",
   "metadata": {},
   "source": [
    "#### Use the relevant pandas methods to print the shapes of your training and testing sets (both x and y separately)"
   ]
  },
  {
   "cell_type": "code",
   "execution_count": null,
   "metadata": {},
   "outputs": [],
   "source": [
    "#print x_train.shape, y_train.shape\n",
    "#print x_test.shape, y_test.shape"
   ]
  },
  {
   "cell_type": "code",
   "execution_count": null,
   "metadata": {},
   "outputs": [],
   "source": [
    "..."
   ]
  },
  {
   "cell_type": "markdown",
   "metadata": {},
   "source": [
    "### Calculating slope and intercept of linear regression line of the training set (Using math!)"
   ]
  },
  {
   "cell_type": "code",
   "execution_count": null,
   "metadata": {},
   "outputs": [],
   "source": [
    "#calculate the standard deviations of both variables \n",
    "#should only be data from the training set!!!!!!\n",
    "x_std = ...\n",
    "y_std = ..."
   ]
  },
  {
   "cell_type": "code",
   "execution_count": null,
   "metadata": {},
   "outputs": [],
   "source": [
    "#calculate slope of regression line that minimizes the root mean square error\n",
    "slope = ..."
   ]
  },
  {
   "cell_type": "code",
   "execution_count": null,
   "metadata": {},
   "outputs": [],
   "source": [
    "#calculate y-intercept value\n",
    "intercept = ..."
   ]
  },
  {
   "cell_type": "code",
   "execution_count": null,
   "metadata": {},
   "outputs": [],
   "source": [
    "#print the slope and intercept\n",
    "slope, intercept"
   ]
  },
  {
   "cell_type": "code",
   "execution_count": null,
   "metadata": {},
   "outputs": [],
   "source": [
    "#Calculate predicted values for Y_train\n",
    "#Multiply the values of x_train by the slope\n",
    "#Add the intercept to these values\n",
    "y_train_pred = ..."
   ]
  },
  {
   "cell_type": "code",
   "execution_count": null,
   "metadata": {},
   "outputs": [],
   "source": [
    "#Do the same to predict values for Y_test\n",
    "y_test_pred = ..."
   ]
  },
  {
   "cell_type": "markdown",
   "metadata": {},
   "source": [
    "### Testing accuracy of linear regression model (Using math!)"
   ]
  },
  {
   "cell_type": "code",
   "execution_count": null,
   "metadata": {},
   "outputs": [],
   "source": [
    "#Define a function that calculates root mean square error\n",
    "#Given the actual values (in an array) and the predicted values(also in an array)\n",
    "def rmse(actual_values, predicted_values):\n",
    "    ...\n",
    "    return ..."
   ]
  },
  {
   "cell_type": "code",
   "execution_count": null,
   "metadata": {},
   "outputs": [],
   "source": [
    "#Calculate the rmse for y_train\n",
    "rmse(..., ...)"
   ]
  },
  {
   "cell_type": "code",
   "execution_count": null,
   "metadata": {},
   "outputs": [],
   "source": [
    "#Calculate the rmse for y_test\n",
    "rmse(..., ...)"
   ]
  },
  {
   "cell_type": "markdown",
   "metadata": {},
   "source": [
    "#### Which value is smaller? Why do you think this is the case?"
   ]
  },
  {
   "cell_type": "markdown",
   "metadata": {},
   "source": [
    "TYPE ANSWER HERE"
   ]
  },
  {
   "cell_type": "markdown",
   "metadata": {},
   "source": [
    "### Fitting the Model on the Training Data and making Predictions (Using external data science libraries)"
   ]
  },
  {
   "cell_type": "code",
   "execution_count": null,
   "metadata": {},
   "outputs": [],
   "source": [
    "#Now you're going to fit your x and y into a machine-learning model to predict the output. \n",
    "#Create a new object lr of the Linear Regression Class\n",
    "lr = LinearRegression()"
   ]
  },
  {
   "cell_type": "code",
   "execution_count": null,
   "metadata": {},
   "outputs": [],
   "source": [
    "#Use the fit method of the object created above to fit your x_train and y_train variables and create the relevant model.\n",
    "model = ..."
   ]
  },
  {
   "cell_type": "code",
   "execution_count": null,
   "metadata": {},
   "outputs": [],
   "source": [
    "#Print the slope and intercept the model calculated\n",
    "model.coef_, model.intercept_"
   ]
  },
  {
   "cell_type": "markdown",
   "metadata": {},
   "source": [
    "#### How similar are these parameters to the ones we calculated above?"
   ]
  },
  {
   "cell_type": "markdown",
   "metadata": {},
   "source": [
    "TYPE ANSWER HERE"
   ]
  },
  {
   "cell_type": "code",
   "execution_count": null,
   "metadata": {},
   "outputs": [],
   "source": [
    "#Now use your model to predict the value of Y (dependent variable) using the X-values in your testing dataset\n",
    "#(X_test)\n",
    "#Use the predict method of the lr object to do this (similar to fit) but this time, only pass in one argument\n",
    "predictions = ..."
   ]
  },
  {
   "cell_type": "code",
   "execution_count": null,
   "metadata": {},
   "outputs": [],
   "source": [
    "#your predictions should be returned in the form of an array\n",
    "#Use array indexing to display the first five predictions you have made using your model\n",
    "..."
   ]
  },
  {
   "cell_type": "markdown",
   "metadata": {},
   "source": [
    "### Testing the Model's Accuracy (Using external data science libraries)"
   ]
  },
  {
   "cell_type": "code",
   "execution_count": null,
   "metadata": {},
   "outputs": [],
   "source": [
    "#Running the code below should output a scatter plot of the predictions you've made and the actual values in your testing set\n",
    "#Uncomment the line below and run when you're done with all the steps above\n",
    "#plt.scatter(y_test, predictions)\n",
    "plt.xlabel(“True Values”)\n",
    "plt.ylabel(“Predictions”)"
   ]
  },
  {
   "cell_type": "markdown",
   "metadata": {},
   "source": [
    "#### What do you see in the scatter plot above? Do your predicted values seem to be consistent with the test values? Is there any particular trend?"
   ]
  },
  {
   "cell_type": "markdown",
   "metadata": {},
   "source": [
    "*TYPE ANSWER HERE*"
   ]
  },
  {
   "cell_type": "code",
   "execution_count": null,
   "metadata": {},
   "outputs": [],
   "source": [
    "#we can use the score method for the model created above to understand the accuracy of our linear regression model.\n",
    "#the call to the method should take in two arguments, representing your testing dataset\n",
    "#you should expect a number between 0 and 1 to be returned\n",
    "#model.score(x_test, y_test)\n",
    "..."
   ]
  },
  {
   "cell_type": "markdown",
   "metadata": {},
   "source": [
    "#### What does this number tell you about the accuracy of your linear regression model? Is it consistent with you may have expected after observing the scatter plot above? What new insights have you drawn, if any?"
   ]
  },
  {
   "cell_type": "markdown",
   "metadata": {},
   "source": [
    "*TYPE ANSWER HERE*"
   ]
  },
  {
   "cell_type": "code",
   "execution_count": null,
   "metadata": {},
   "outputs": [],
   "source": [
    "#Calculate the rmse of this model using our previously defined method\n",
    "...(y_test, predictions)"
   ]
  },
  {
   "cell_type": "code",
   "execution_count": null,
   "metadata": {},
   "outputs": [],
   "source": []
  }
 ],
 "metadata": {
  "kernelspec": {
   "display_name": "Python 3",
   "language": "python",
   "name": "python3"
  },
  "language_info": {
   "codemirror_mode": {
    "name": "ipython",
    "version": 3
   },
   "file_extension": ".py",
   "mimetype": "text/x-python",
   "name": "python",
   "nbconvert_exporter": "python",
   "pygments_lexer": "ipython3",
   "version": "3.7.4"
  }
 },
 "nbformat": 4,
 "nbformat_minor": 2
}
