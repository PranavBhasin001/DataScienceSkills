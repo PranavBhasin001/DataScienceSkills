{
 "cells": [
  {
   "cell_type": "markdown",
   "metadata": {},
   "source": [
    "# Hypothesis Testing - Unfair Dice "
   ]
  },
  {
   "cell_type": "markdown",
   "metadata": {},
   "source": [
    "Once again, we import numpy. This time, we will also import matplotlib which creates well-formatted charts."
   ]
  },
  {
   "cell_type": "code",
   "execution_count": 193,
   "metadata": {},
   "outputs": [],
   "source": [
    "import numpy as np\n",
    "import matplotlib.pyplot as plt"
   ]
  },
  {
   "cell_type": "markdown",
   "metadata": {},
   "source": [
    "In this case, the array _dice_ represents a die that is more likely to land on lower rolls."
   ]
  },
  {
   "cell_type": "code",
   "execution_count": 215,
   "metadata": {},
   "outputs": [],
   "source": [
    "dice = np.array([1,1,1,1,1,1,1,1,1,1,1,1,1,1,1,1,1,1,1,1,1,1,\n",
    "                 2,2,2,2,2,2,2,2,2,2,2,2,2,2,2,2,2,2,2,2,2,\n",
    "                 3,3,3,3,3,3,3,3,3,3,3,3,3,3,3,3,3,3,3,3,\n",
    "                 4,4,4,4,4,4,4,4,4,4,4,4,4,4,4,4,4,4,4,\n",
    "                 5,5,5,5,5,5,5,5,5,5,5,5,5,5,5,5,5,5,\n",
    "                 6,6,6,6,6,6,6,6,6,6,6,6,6,6,6,6,6])\n",
    "fair_dice = np.array([1,2,3,4,5,6])"
   ]
  },
  {
   "cell_type": "markdown",
   "metadata": {},
   "source": [
    "Imagine getting your hands on one of these dice for a board game. You're wondering why everyone's getting low rolls but want to prove statistically that the die is unfair. To motivate your investigation, you simulate 2000 dice rolls:"
   ]
  },
  {
   "cell_type": "code",
   "execution_count": 216,
   "metadata": {},
   "outputs": [
    {
     "name": "stdout",
     "output_type": "stream",
     "text": [
      "roll 1: 369 times\n",
      "roll 2: 337 times\n",
      "roll 3: 342 times\n",
      "roll 4: 368 times\n",
      "roll 5: 314 times\n",
      "roll 6: 270 times\n"
     ]
    }
   ],
   "source": [
    "two_thousand_tosses = np.random.choice(dice, 2000)\n",
    "for i in np.arange(1,7,1):\n",
    "    print(\"roll \" + str(i) + \": \" + str(np.count_nonzero(two_thousand_tosses == i)) + \" times\")"
   ]
  },
  {
   "cell_type": "markdown",
   "metadata": {},
   "source": [
    "It does look like there's something wrong with this die. Now, we run the above simulation 10000 times and collect how many times a 6 is rolled in each of those simulations. We'll also simulate 10000 fair dice simulations."
   ]
  },
  {
   "cell_type": "code",
   "execution_count": 230,
   "metadata": {},
   "outputs": [],
   "source": [
    "sixes = np.array([])\n",
    "fair_sixes = np.array([])\n",
    "for i in np.arange(10000):\n",
    "    outcomes = np.random.choice(dice, 2000)\n",
    "    fair_outcomes = np.random.choice(fair_dice, 2000)\n",
    "    num_6 = np.count_nonzero(outcomes == 6)\n",
    "    fair_num_6 = np.count_nonzero(fair_outcomes == 6)\n",
    "    sixes = np.append(sixes, num_6)\n",
    "    fair_sixes = np.append(fair_sixes, fair_num_6)"
   ]
  },
  {
   "cell_type": "markdown",
   "metadata": {},
   "source": [
    "For 2000 rolls, we are expecting each number to appear around 2000/6 times. Our observed test statistic in this case is the difference of our actual results (number of times 6 was rolled out of 2000) from the expected number of times (2000/6)."
   ]
  },
  {
   "cell_type": "code",
   "execution_count": 231,
   "metadata": {},
   "outputs": [
    {
     "data": {
      "text/plain": [
       "array([-23.33333333, -24.33333333,  -8.33333333, ..., -20.33333333,\n",
       "       -47.33333333, -39.33333333])"
      ]
     },
     "execution_count": 231,
     "metadata": {},
     "output_type": "execute_result"
    }
   ],
   "source": [
    "test_statistics = sixes - (2000/6)\n",
    "test_statistics"
   ]
  },
  {
   "cell_type": "markdown",
   "metadata": {},
   "source": [
    "This histogram shows what the test statistic distribution looks like for fair dice (orange) and our rigged die (blue)."
   ]
  },
  {
   "cell_type": "code",
   "execution_count": 232,
   "metadata": {},
   "outputs": [
    {
     "data": {
      "image/png": "[encoded data removed]",
      "text/plain": [
       "<Figure size 432x288 with 1 Axes>"
      ]
     },
     "metadata": {
      "needs_background": "light"
     },
     "output_type": "display_data"
    }
   ],
   "source": [
    "fig,ax = plt.subplots(1,1)\n",
    "ax.hist(sixes-(2000/6), bins = np.arange(-100,70,4))\n",
    "ax.hist(fair_sixes-(2000/6), bins = np.arange(-100,70,4))\n",
    "ax.set_title(\"Dice rolls\")\n",
    "ax.set_xlabel('Difference between number rolled 6s and expected')\n",
    "ax.set_ylabel('no. rolls')\n",
    "plt.show()"
   ]
  },
  {
   "cell_type": "markdown",
   "metadata": {},
   "source": [
    "Finally, we calculate the probability of receiving our skewed blue distribution under the assumption that the dice obeys the orange distribution. If this probability is lower than 5 percent we can declare the die to be unfair."
   ]
  },
  {
   "cell_type": "code",
   "execution_count": 233,
   "metadata": {
    "scrolled": true
   },
   "outputs": [
    {
     "data": {
      "text/plain": [
       "0.0038"
      ]
     },
     "execution_count": 233,
     "metadata": {},
     "output_type": "execute_result"
    }
   ],
   "source": [
    "sample_mean = np.mean(sixes-(2000/6))\n",
    "p_value = np.count_nonzero(fair_sixes-(2000/6) < sample_mean)/len(fair_sixes)\n",
    "p_value"
   ]
  },
  {
   "cell_type": "markdown",
   "metadata": {},
   "source": [
    "A p-value below 0.01 is considered very low. We now have statistical evidence to show that our die is rigged."
   ]
  }
 ],
 "metadata": {
  "kernelspec": {
   "display_name": "Python 3",
   "language": "python",
   "name": "python3"
  },
  "language_info": {
   "codemirror_mode": {
    "name": "ipython",
    "version": 3
   },
   "file_extension": ".py",
   "mimetype": "text/x-python",
   "name": "python",
   "nbconvert_exporter": "python",
   "pygments_lexer": "ipython3",
   "version": "3.7.4"
  }
 },
 "nbformat": 4,
 "nbformat_minor": 4
}
